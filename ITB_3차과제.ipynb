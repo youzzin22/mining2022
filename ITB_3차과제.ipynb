{
  "nbformat": 4,
  "nbformat_minor": 0,
  "metadata": {
    "colab": {
      "provenance": [],
      "toc_visible": true,
      "authorship_tag": "ABX9TyPLiaMoH9xd6dKqsjxoEHWH",
      "include_colab_link": true
    },
    "kernelspec": {
      "name": "python3",
      "display_name": "Python 3"
    },
    "language_info": {
      "name": "python"
    }
  },
  "cells": [
    {
      "cell_type": "markdown",
      "metadata": {
        "id": "view-in-github",
        "colab_type": "text"
      },
      "source": [
        "<a href=\"https://colab.research.google.com/github/youzzin22/mining2022/blob/main/ITB_3%EC%B0%A8%EA%B3%BC%EC%A0%9C.ipynb\" target=\"_parent\"><img src=\"https://colab.research.google.com/assets/colab-badge.svg\" alt=\"Open In Colab\"/></a>"
      ]
    },
    {
      "cell_type": "markdown",
      "source": [
        "# health_data 불러오기"
      ],
      "metadata": {
        "id": "0HCAmkwGhwYy"
      }
    },
    {
      "cell_type": "code",
      "source": [
        "from google.colab import drive\n",
        "drive.mount('/content/drive')"
      ],
      "metadata": {
        "colab": {
          "base_uri": "https://localhost:8080/"
        },
        "id": "KGJ4sqhkiJfJ",
        "outputId": "b8a2bc47-890d-4015-fbef-127e62aa99f0"
      },
      "execution_count": 1,
      "outputs": [
        {
          "output_type": "stream",
          "name": "stdout",
          "text": [
            "Drive already mounted at /content/drive; to attempt to forcibly remount, call drive.mount(\"/content/drive\", force_remount=True).\n"
          ]
        }
      ]
    },
    {
      "cell_type": "code",
      "source": [
        "!pip install mglearn \n",
        "!pip install --upgrade joblib==1.1.0\n",
        "import mglearn\n",
        "\n",
        "%matplotlib inline\n",
        "import pandas as pd\n",
        "import seaborn as sns           \n",
        "import matplotlib.pyplot as plt\n",
        "\n",
        "import matplotlib as mpl               \n",
        "import matplotlib.font_manager as fm\n",
        "\n",
        "from matplotlib import font_manager, rc\n",
        "import matplotlib.pyplot as plt \n",
        "plt.rc('font', family='NGULIM')\n",
        "\n",
        "font_path = \"C:/Windows/Fonts/NGULIM\"\n",
        "\n",
        " \n",
        "health = pd.read_csv(\"/content/drive/My Drive/Colab Notebooks/ITB/health_data.csv\")\n",
        "print(health.columns)\n",
        "display(health.info()) \n",
        "display(health.head())"
      ],
      "metadata": {
        "colab": {
          "base_uri": "https://localhost:8080/",
          "height": 1000
        },
        "id": "fZDBJfIiiMcm",
        "outputId": "d1ede19f-adcb-40f2-ad3b-c6e837efe0ff"
      },
      "execution_count": 2,
      "outputs": [
        {
          "output_type": "stream",
          "name": "stdout",
          "text": [
            "Looking in indexes: https://pypi.org/simple, https://us-python.pkg.dev/colab-wheels/public/simple/\n",
            "Collecting mglearn\n",
            "  Downloading mglearn-0.1.9.tar.gz (540 kB)\n",
            "\u001b[K     |████████████████████████████████| 540 kB 7.8 MB/s \n",
            "\u001b[?25hRequirement already satisfied: numpy in /usr/local/lib/python3.7/dist-packages (from mglearn) (1.21.6)\n",
            "Requirement already satisfied: matplotlib in /usr/local/lib/python3.7/dist-packages (from mglearn) (3.2.2)\n",
            "Requirement already satisfied: scikit-learn in /usr/local/lib/python3.7/dist-packages (from mglearn) (1.0.2)\n",
            "Requirement already satisfied: pandas in /usr/local/lib/python3.7/dist-packages (from mglearn) (1.3.5)\n",
            "Requirement already satisfied: pillow in /usr/local/lib/python3.7/dist-packages (from mglearn) (7.1.2)\n",
            "Requirement already satisfied: cycler in /usr/local/lib/python3.7/dist-packages (from mglearn) (0.11.0)\n",
            "Requirement already satisfied: imageio in /usr/local/lib/python3.7/dist-packages (from mglearn) (2.9.0)\n",
            "Requirement already satisfied: joblib in /usr/local/lib/python3.7/dist-packages (from mglearn) (1.2.0)\n",
            "Requirement already satisfied: kiwisolver>=1.0.1 in /usr/local/lib/python3.7/dist-packages (from matplotlib->mglearn) (1.4.4)\n",
            "Requirement already satisfied: python-dateutil>=2.1 in /usr/local/lib/python3.7/dist-packages (from matplotlib->mglearn) (2.8.2)\n",
            "Requirement already satisfied: pyparsing!=2.0.4,!=2.1.2,!=2.1.6,>=2.0.1 in /usr/local/lib/python3.7/dist-packages (from matplotlib->mglearn) (3.0.9)\n",
            "Requirement already satisfied: typing-extensions in /usr/local/lib/python3.7/dist-packages (from kiwisolver>=1.0.1->matplotlib->mglearn) (4.1.1)\n",
            "Requirement already satisfied: six>=1.5 in /usr/local/lib/python3.7/dist-packages (from python-dateutil>=2.1->matplotlib->mglearn) (1.15.0)\n",
            "Requirement already satisfied: pytz>=2017.3 in /usr/local/lib/python3.7/dist-packages (from pandas->mglearn) (2022.6)\n",
            "Requirement already satisfied: scipy>=1.1.0 in /usr/local/lib/python3.7/dist-packages (from scikit-learn->mglearn) (1.7.3)\n",
            "Requirement already satisfied: threadpoolctl>=2.0.0 in /usr/local/lib/python3.7/dist-packages (from scikit-learn->mglearn) (3.1.0)\n",
            "Building wheels for collected packages: mglearn\n",
            "  Building wheel for mglearn (setup.py) ... \u001b[?25l\u001b[?25hdone\n",
            "  Created wheel for mglearn: filename=mglearn-0.1.9-py2.py3-none-any.whl size=582637 sha256=335cf104cf6549c09620f761b1669da0d5d62890001016216d871d8fe65e82e2\n",
            "  Stored in directory: /root/.cache/pip/wheels/f1/17/e1/1720d6dcd70187b6b6c3750cb3508798f2b1d57c9d3214b08b\n",
            "Successfully built mglearn\n",
            "Installing collected packages: mglearn\n",
            "Successfully installed mglearn-0.1.9\n",
            "Looking in indexes: https://pypi.org/simple, https://us-python.pkg.dev/colab-wheels/public/simple/\n",
            "Collecting joblib==1.1.0\n",
            "  Downloading joblib-1.1.0-py2.py3-none-any.whl (306 kB)\n",
            "\u001b[K     |████████████████████████████████| 306 kB 5.4 MB/s \n",
            "\u001b[?25hInstalling collected packages: joblib\n",
            "  Attempting uninstall: joblib\n",
            "    Found existing installation: joblib 1.2.0\n",
            "    Uninstalling joblib-1.2.0:\n",
            "      Successfully uninstalled joblib-1.2.0\n",
            "Successfully installed joblib-1.1.0\n",
            "Index(['기준년도', '가입자일련번호', '시도코드', '성별코드', '연령대코드(5세단위)', '신장(5Cm단위)',\n",
            "       '체중(5Kg 단위)', '허리둘레', '시력(좌)', '시력(우)', '청력(좌)', '청력(우)', '수축기혈압',\n",
            "       '이완기혈압', '식전혈당(공복혈당)', '총콜레스테롤', '트리글리세라이드', 'HDL콜레스테롤', 'LDL콜레스테롤',\n",
            "       '혈색소', '요단백', '혈청크레아티닌', '(혈청지오티)AST', '(혈청지오티)ALT', '감마지티피', '흡연상태',\n",
            "       '음주여부', '구강검진수검여부', '치아우식증유무', '치석', '데이터공개일자'],\n",
            "      dtype='object')\n",
            "<class 'pandas.core.frame.DataFrame'>\n",
            "RangeIndex: 10000 entries, 0 to 9999\n",
            "Data columns (total 31 columns):\n",
            " #   Column       Non-Null Count  Dtype  \n",
            "---  ------       --------------  -----  \n",
            " 0   기준년도         10000 non-null  int64  \n",
            " 1   가입자일련번호      10000 non-null  int64  \n",
            " 2   시도코드         10000 non-null  int64  \n",
            " 3   성별코드         10000 non-null  object \n",
            " 4   연령대코드(5세단위)  10000 non-null  int64  \n",
            " 5   신장(5Cm단위)    10000 non-null  int64  \n",
            " 6   체중(5Kg 단위)   10000 non-null  int64  \n",
            " 7   허리둘레         10000 non-null  float64\n",
            " 8   시력(좌)        10000 non-null  float64\n",
            " 9   시력(우)        10000 non-null  float64\n",
            " 10  청력(좌)        10000 non-null  int64  \n",
            " 11  청력(우)        10000 non-null  int64  \n",
            " 12  수축기혈압        9912 non-null   float64\n",
            " 13  이완기혈압        9912 non-null   float64\n",
            " 14  식전혈당(공복혈당)   9912 non-null   float64\n",
            " 15  총콜레스테롤       4044 non-null   float64\n",
            " 16  트리글리세라이드     4044 non-null   float64\n",
            " 17  HDL콜레스테롤     4044 non-null   float64\n",
            " 18  LDL콜레스테롤     3977 non-null   float64\n",
            " 19  혈색소          9912 non-null   float64\n",
            " 20  요단백          9861 non-null   float64\n",
            " 21  혈청크레아티닌      9912 non-null   float64\n",
            " 22  (혈청지오티)AST   9912 non-null   float64\n",
            " 23  (혈청지오티)ALT   9912 non-null   float64\n",
            " 24  감마지티피        9912 non-null   float64\n",
            " 25  흡연상태         9998 non-null   object \n",
            " 26  음주여부         9999 non-null   object \n",
            " 27  구강검진수검여부     10000 non-null  int64  \n",
            " 28  치아우식증유무      3251 non-null   float64\n",
            " 29  치석           3251 non-null   float64\n",
            " 30  데이터공개일자      10000 non-null  object \n",
            "dtypes: float64(18), int64(9), object(4)\n",
            "memory usage: 2.4+ MB\n"
          ]
        },
        {
          "output_type": "display_data",
          "data": {
            "text/plain": [
              "None"
            ]
          },
          "metadata": {}
        },
        {
          "output_type": "display_data",
          "data": {
            "text/plain": [
              "   기준년도  가입자일련번호  시도코드 성별코드  연령대코드(5세단위)  신장(5Cm단위)  체중(5Kg 단위)  허리둘레  시력(좌)  \\\n",
              "0  2020        1    36    M            9        165          60  72.1    1.2   \n",
              "1  2020        2    27    F           13        150          65  81.0    0.8   \n",
              "2  2020        3    11    F           12        155          55  70.0    0.6   \n",
              "3  2020        4    31    M           13        160          70  90.8    1.0   \n",
              "4  2020        5    41    F           12        155          50  75.2    1.5   \n",
              "\n",
              "   시력(우)  ...  혈청크레아티닌  (혈청지오티)AST  (혈청지오티)ALT  감마지티피  흡연상태  음주여부  구강검진수검여부  \\\n",
              "0    1.5  ...      1.1        21.0        27.0   21.0    No    No         0   \n",
              "1    0.8  ...      0.5        18.0        15.0   15.0    No    No         0   \n",
              "2    0.7  ...      0.7        27.0        25.0    7.0    No    No         0   \n",
              "3    1.0  ...      1.2        65.0        97.0   72.0    No    No         1   \n",
              "4    1.2  ...      0.7        18.0        17.0   14.0    No    No         0   \n",
              "\n",
              "   치아우식증유무   치석     데이터공개일자  \n",
              "0      NaN  NaN  12/29/2021  \n",
              "1      NaN  NaN  12/29/2021  \n",
              "2      NaN  NaN  12/29/2021  \n",
              "3      0.0  0.0  12/29/2021  \n",
              "4      NaN  NaN  12/29/2021  \n",
              "\n",
              "[5 rows x 31 columns]"
            ],
            "text/html": [
              "\n",
              "  <div id=\"df-30de7cce-d72e-41e3-a4e2-6a1ea8b27cc7\">\n",
              "    <div class=\"colab-df-container\">\n",
              "      <div>\n",
              "<style scoped>\n",
              "    .dataframe tbody tr th:only-of-type {\n",
              "        vertical-align: middle;\n",
              "    }\n",
              "\n",
              "    .dataframe tbody tr th {\n",
              "        vertical-align: top;\n",
              "    }\n",
              "\n",
              "    .dataframe thead th {\n",
              "        text-align: right;\n",
              "    }\n",
              "</style>\n",
              "<table border=\"1\" class=\"dataframe\">\n",
              "  <thead>\n",
              "    <tr style=\"text-align: right;\">\n",
              "      <th></th>\n",
              "      <th>기준년도</th>\n",
              "      <th>가입자일련번호</th>\n",
              "      <th>시도코드</th>\n",
              "      <th>성별코드</th>\n",
              "      <th>연령대코드(5세단위)</th>\n",
              "      <th>신장(5Cm단위)</th>\n",
              "      <th>체중(5Kg 단위)</th>\n",
              "      <th>허리둘레</th>\n",
              "      <th>시력(좌)</th>\n",
              "      <th>시력(우)</th>\n",
              "      <th>...</th>\n",
              "      <th>혈청크레아티닌</th>\n",
              "      <th>(혈청지오티)AST</th>\n",
              "      <th>(혈청지오티)ALT</th>\n",
              "      <th>감마지티피</th>\n",
              "      <th>흡연상태</th>\n",
              "      <th>음주여부</th>\n",
              "      <th>구강검진수검여부</th>\n",
              "      <th>치아우식증유무</th>\n",
              "      <th>치석</th>\n",
              "      <th>데이터공개일자</th>\n",
              "    </tr>\n",
              "  </thead>\n",
              "  <tbody>\n",
              "    <tr>\n",
              "      <th>0</th>\n",
              "      <td>2020</td>\n",
              "      <td>1</td>\n",
              "      <td>36</td>\n",
              "      <td>M</td>\n",
              "      <td>9</td>\n",
              "      <td>165</td>\n",
              "      <td>60</td>\n",
              "      <td>72.1</td>\n",
              "      <td>1.2</td>\n",
              "      <td>1.5</td>\n",
              "      <td>...</td>\n",
              "      <td>1.1</td>\n",
              "      <td>21.0</td>\n",
              "      <td>27.0</td>\n",
              "      <td>21.0</td>\n",
              "      <td>No</td>\n",
              "      <td>No</td>\n",
              "      <td>0</td>\n",
              "      <td>NaN</td>\n",
              "      <td>NaN</td>\n",
              "      <td>12/29/2021</td>\n",
              "    </tr>\n",
              "    <tr>\n",
              "      <th>1</th>\n",
              "      <td>2020</td>\n",
              "      <td>2</td>\n",
              "      <td>27</td>\n",
              "      <td>F</td>\n",
              "      <td>13</td>\n",
              "      <td>150</td>\n",
              "      <td>65</td>\n",
              "      <td>81.0</td>\n",
              "      <td>0.8</td>\n",
              "      <td>0.8</td>\n",
              "      <td>...</td>\n",
              "      <td>0.5</td>\n",
              "      <td>18.0</td>\n",
              "      <td>15.0</td>\n",
              "      <td>15.0</td>\n",
              "      <td>No</td>\n",
              "      <td>No</td>\n",
              "      <td>0</td>\n",
              "      <td>NaN</td>\n",
              "      <td>NaN</td>\n",
              "      <td>12/29/2021</td>\n",
              "    </tr>\n",
              "    <tr>\n",
              "      <th>2</th>\n",
              "      <td>2020</td>\n",
              "      <td>3</td>\n",
              "      <td>11</td>\n",
              "      <td>F</td>\n",
              "      <td>12</td>\n",
              "      <td>155</td>\n",
              "      <td>55</td>\n",
              "      <td>70.0</td>\n",
              "      <td>0.6</td>\n",
              "      <td>0.7</td>\n",
              "      <td>...</td>\n",
              "      <td>0.7</td>\n",
              "      <td>27.0</td>\n",
              "      <td>25.0</td>\n",
              "      <td>7.0</td>\n",
              "      <td>No</td>\n",
              "      <td>No</td>\n",
              "      <td>0</td>\n",
              "      <td>NaN</td>\n",
              "      <td>NaN</td>\n",
              "      <td>12/29/2021</td>\n",
              "    </tr>\n",
              "    <tr>\n",
              "      <th>3</th>\n",
              "      <td>2020</td>\n",
              "      <td>4</td>\n",
              "      <td>31</td>\n",
              "      <td>M</td>\n",
              "      <td>13</td>\n",
              "      <td>160</td>\n",
              "      <td>70</td>\n",
              "      <td>90.8</td>\n",
              "      <td>1.0</td>\n",
              "      <td>1.0</td>\n",
              "      <td>...</td>\n",
              "      <td>1.2</td>\n",
              "      <td>65.0</td>\n",
              "      <td>97.0</td>\n",
              "      <td>72.0</td>\n",
              "      <td>No</td>\n",
              "      <td>No</td>\n",
              "      <td>1</td>\n",
              "      <td>0.0</td>\n",
              "      <td>0.0</td>\n",
              "      <td>12/29/2021</td>\n",
              "    </tr>\n",
              "    <tr>\n",
              "      <th>4</th>\n",
              "      <td>2020</td>\n",
              "      <td>5</td>\n",
              "      <td>41</td>\n",
              "      <td>F</td>\n",
              "      <td>12</td>\n",
              "      <td>155</td>\n",
              "      <td>50</td>\n",
              "      <td>75.2</td>\n",
              "      <td>1.5</td>\n",
              "      <td>1.2</td>\n",
              "      <td>...</td>\n",
              "      <td>0.7</td>\n",
              "      <td>18.0</td>\n",
              "      <td>17.0</td>\n",
              "      <td>14.0</td>\n",
              "      <td>No</td>\n",
              "      <td>No</td>\n",
              "      <td>0</td>\n",
              "      <td>NaN</td>\n",
              "      <td>NaN</td>\n",
              "      <td>12/29/2021</td>\n",
              "    </tr>\n",
              "  </tbody>\n",
              "</table>\n",
              "<p>5 rows × 31 columns</p>\n",
              "</div>\n",
              "      <button class=\"colab-df-convert\" onclick=\"convertToInteractive('df-30de7cce-d72e-41e3-a4e2-6a1ea8b27cc7')\"\n",
              "              title=\"Convert this dataframe to an interactive table.\"\n",
              "              style=\"display:none;\">\n",
              "        \n",
              "  <svg xmlns=\"http://www.w3.org/2000/svg\" height=\"24px\"viewBox=\"0 0 24 24\"\n",
              "       width=\"24px\">\n",
              "    <path d=\"M0 0h24v24H0V0z\" fill=\"none\"/>\n",
              "    <path d=\"M18.56 5.44l.94 2.06.94-2.06 2.06-.94-2.06-.94-.94-2.06-.94 2.06-2.06.94zm-11 1L8.5 8.5l.94-2.06 2.06-.94-2.06-.94L8.5 2.5l-.94 2.06-2.06.94zm10 10l.94 2.06.94-2.06 2.06-.94-2.06-.94-.94-2.06-.94 2.06-2.06.94z\"/><path d=\"M17.41 7.96l-1.37-1.37c-.4-.4-.92-.59-1.43-.59-.52 0-1.04.2-1.43.59L10.3 9.45l-7.72 7.72c-.78.78-.78 2.05 0 2.83L4 21.41c.39.39.9.59 1.41.59.51 0 1.02-.2 1.41-.59l7.78-7.78 2.81-2.81c.8-.78.8-2.07 0-2.86zM5.41 20L4 18.59l7.72-7.72 1.47 1.35L5.41 20z\"/>\n",
              "  </svg>\n",
              "      </button>\n",
              "      \n",
              "  <style>\n",
              "    .colab-df-container {\n",
              "      display:flex;\n",
              "      flex-wrap:wrap;\n",
              "      gap: 12px;\n",
              "    }\n",
              "\n",
              "    .colab-df-convert {\n",
              "      background-color: #E8F0FE;\n",
              "      border: none;\n",
              "      border-radius: 50%;\n",
              "      cursor: pointer;\n",
              "      display: none;\n",
              "      fill: #1967D2;\n",
              "      height: 32px;\n",
              "      padding: 0 0 0 0;\n",
              "      width: 32px;\n",
              "    }\n",
              "\n",
              "    .colab-df-convert:hover {\n",
              "      background-color: #E2EBFA;\n",
              "      box-shadow: 0px 1px 2px rgba(60, 64, 67, 0.3), 0px 1px 3px 1px rgba(60, 64, 67, 0.15);\n",
              "      fill: #174EA6;\n",
              "    }\n",
              "\n",
              "    [theme=dark] .colab-df-convert {\n",
              "      background-color: #3B4455;\n",
              "      fill: #D2E3FC;\n",
              "    }\n",
              "\n",
              "    [theme=dark] .colab-df-convert:hover {\n",
              "      background-color: #434B5C;\n",
              "      box-shadow: 0px 1px 3px 1px rgba(0, 0, 0, 0.15);\n",
              "      filter: drop-shadow(0px 1px 2px rgba(0, 0, 0, 0.3));\n",
              "      fill: #FFFFFF;\n",
              "    }\n",
              "  </style>\n",
              "\n",
              "      <script>\n",
              "        const buttonEl =\n",
              "          document.querySelector('#df-30de7cce-d72e-41e3-a4e2-6a1ea8b27cc7 button.colab-df-convert');\n",
              "        buttonEl.style.display =\n",
              "          google.colab.kernel.accessAllowed ? 'block' : 'none';\n",
              "\n",
              "        async function convertToInteractive(key) {\n",
              "          const element = document.querySelector('#df-30de7cce-d72e-41e3-a4e2-6a1ea8b27cc7');\n",
              "          const dataTable =\n",
              "            await google.colab.kernel.invokeFunction('convertToInteractive',\n",
              "                                                     [key], {});\n",
              "          if (!dataTable) return;\n",
              "\n",
              "          const docLinkHtml = 'Like what you see? Visit the ' +\n",
              "            '<a target=\"_blank\" href=https://colab.research.google.com/notebooks/data_table.ipynb>data table notebook</a>'\n",
              "            + ' to learn more about interactive tables.';\n",
              "          element.innerHTML = '';\n",
              "          dataTable['output_type'] = 'display_data';\n",
              "          await google.colab.output.renderOutput(dataTable, element);\n",
              "          const docLink = document.createElement('div');\n",
              "          docLink.innerHTML = docLinkHtml;\n",
              "          element.appendChild(docLink);\n",
              "        }\n",
              "      </script>\n",
              "    </div>\n",
              "  </div>\n",
              "  "
            ]
          },
          "metadata": {}
        }
      ]
    },
    {
      "cell_type": "code",
      "source": [
        "health.describe()"
      ],
      "metadata": {
        "colab": {
          "base_uri": "https://localhost:8080/",
          "height": 411
        },
        "id": "vycCoxJKjadc",
        "outputId": "5f119ede-67c9-42a0-c722-ba6688a37749"
      },
      "execution_count": 3,
      "outputs": [
        {
          "output_type": "execute_result",
          "data": {
            "text/plain": [
              "          기준년도      가입자일련번호          시도코드   연령대코드(5세단위)     신장(5Cm단위)  \\\n",
              "count  10000.0  10000.00000  10000.000000  10000.000000  10000.000000   \n",
              "mean    2020.0   5000.50000     34.100100     11.931400    160.983500   \n",
              "std        0.0   2886.89568     12.394581      2.166048      9.211608   \n",
              "min     2020.0      1.00000     11.000000      9.000000    130.000000   \n",
              "25%     2020.0   2500.75000     27.000000     10.000000    155.000000   \n",
              "50%     2020.0   5000.50000     41.000000     12.000000    160.000000   \n",
              "75%     2020.0   7500.25000     44.000000     13.000000    170.000000   \n",
              "max     2020.0  10000.00000     49.000000     18.000000    195.000000   \n",
              "\n",
              "         체중(5Kg 단위)          허리둘레         시력(좌)         시력(우)         청력(좌)  \\\n",
              "count  10000.000000  10000.000000  10000.000000  10000.000000  10000.000000   \n",
              "mean      63.034500     82.366100      0.933750      0.936750      1.050500   \n",
              "std       12.205294      9.561973      0.662057      0.641378      0.227936   \n",
              "min       30.000000     53.000000      0.100000      0.100000      1.000000   \n",
              "25%       55.000000     76.000000      0.700000      0.700000      1.000000   \n",
              "50%       60.000000     82.000000      0.900000      0.900000      1.000000   \n",
              "75%       70.000000     88.900000      1.200000      1.200000      1.000000   \n",
              "max      130.000000    134.000000      9.900000      9.900000      3.000000   \n",
              "\n",
              "       ...     LDL콜레스테롤          혈색소          요단백      혈청크레아티닌  (혈청지오티)AST  \\\n",
              "count  ...  3977.000000  9912.000000  9861.000000  9912.000000  9912.00000   \n",
              "mean   ...   116.263264    14.214255     1.119461     0.848484    27.58979   \n",
              "std    ...    37.829955     1.555386     0.489782     0.301012    17.88442   \n",
              "min    ...    13.000000     5.100000     1.000000     0.050000     3.00000   \n",
              "25%    ...    89.000000    13.200000     1.000000     0.700000    20.00000   \n",
              "50%    ...   115.000000    14.200000     1.000000     0.800000    24.00000   \n",
              "75%    ...   141.000000    15.300000     1.000000     1.000000    30.00000   \n",
              "max    ...   297.000000    20.000000     6.000000     9.200000   692.00000   \n",
              "\n",
              "        (혈청지오티)ALT        감마지티피      구강검진수검여부      치아우식증유무           치석  \n",
              "count  9912.000000  9912.000000  10000.000000  3251.000000  3251.000000  \n",
              "mean     26.789851    38.098668      0.325100     0.175331     0.579514  \n",
              "std      23.735687    58.184579      0.468436     0.380308     0.591269  \n",
              "min       2.000000     3.000000      0.000000     0.000000     0.000000  \n",
              "25%      16.000000    16.000000      0.000000     0.000000     0.000000  \n",
              "50%      21.000000    24.000000      0.000000     0.000000     1.000000  \n",
              "75%      31.000000    39.000000      1.000000     0.000000     1.000000  \n",
              "max    1146.000000  2322.000000      1.000000     1.000000     2.000000  \n",
              "\n",
              "[8 rows x 27 columns]"
            ],
            "text/html": [
              "\n",
              "  <div id=\"df-4d488832-7944-4817-aacd-9c32861059a7\">\n",
              "    <div class=\"colab-df-container\">\n",
              "      <div>\n",
              "<style scoped>\n",
              "    .dataframe tbody tr th:only-of-type {\n",
              "        vertical-align: middle;\n",
              "    }\n",
              "\n",
              "    .dataframe tbody tr th {\n",
              "        vertical-align: top;\n",
              "    }\n",
              "\n",
              "    .dataframe thead th {\n",
              "        text-align: right;\n",
              "    }\n",
              "</style>\n",
              "<table border=\"1\" class=\"dataframe\">\n",
              "  <thead>\n",
              "    <tr style=\"text-align: right;\">\n",
              "      <th></th>\n",
              "      <th>기준년도</th>\n",
              "      <th>가입자일련번호</th>\n",
              "      <th>시도코드</th>\n",
              "      <th>연령대코드(5세단위)</th>\n",
              "      <th>신장(5Cm단위)</th>\n",
              "      <th>체중(5Kg 단위)</th>\n",
              "      <th>허리둘레</th>\n",
              "      <th>시력(좌)</th>\n",
              "      <th>시력(우)</th>\n",
              "      <th>청력(좌)</th>\n",
              "      <th>...</th>\n",
              "      <th>LDL콜레스테롤</th>\n",
              "      <th>혈색소</th>\n",
              "      <th>요단백</th>\n",
              "      <th>혈청크레아티닌</th>\n",
              "      <th>(혈청지오티)AST</th>\n",
              "      <th>(혈청지오티)ALT</th>\n",
              "      <th>감마지티피</th>\n",
              "      <th>구강검진수검여부</th>\n",
              "      <th>치아우식증유무</th>\n",
              "      <th>치석</th>\n",
              "    </tr>\n",
              "  </thead>\n",
              "  <tbody>\n",
              "    <tr>\n",
              "      <th>count</th>\n",
              "      <td>10000.0</td>\n",
              "      <td>10000.00000</td>\n",
              "      <td>10000.000000</td>\n",
              "      <td>10000.000000</td>\n",
              "      <td>10000.000000</td>\n",
              "      <td>10000.000000</td>\n",
              "      <td>10000.000000</td>\n",
              "      <td>10000.000000</td>\n",
              "      <td>10000.000000</td>\n",
              "      <td>10000.000000</td>\n",
              "      <td>...</td>\n",
              "      <td>3977.000000</td>\n",
              "      <td>9912.000000</td>\n",
              "      <td>9861.000000</td>\n",
              "      <td>9912.000000</td>\n",
              "      <td>9912.00000</td>\n",
              "      <td>9912.000000</td>\n",
              "      <td>9912.000000</td>\n",
              "      <td>10000.000000</td>\n",
              "      <td>3251.000000</td>\n",
              "      <td>3251.000000</td>\n",
              "    </tr>\n",
              "    <tr>\n",
              "      <th>mean</th>\n",
              "      <td>2020.0</td>\n",
              "      <td>5000.50000</td>\n",
              "      <td>34.100100</td>\n",
              "      <td>11.931400</td>\n",
              "      <td>160.983500</td>\n",
              "      <td>63.034500</td>\n",
              "      <td>82.366100</td>\n",
              "      <td>0.933750</td>\n",
              "      <td>0.936750</td>\n",
              "      <td>1.050500</td>\n",
              "      <td>...</td>\n",
              "      <td>116.263264</td>\n",
              "      <td>14.214255</td>\n",
              "      <td>1.119461</td>\n",
              "      <td>0.848484</td>\n",
              "      <td>27.58979</td>\n",
              "      <td>26.789851</td>\n",
              "      <td>38.098668</td>\n",
              "      <td>0.325100</td>\n",
              "      <td>0.175331</td>\n",
              "      <td>0.579514</td>\n",
              "    </tr>\n",
              "    <tr>\n",
              "      <th>std</th>\n",
              "      <td>0.0</td>\n",
              "      <td>2886.89568</td>\n",
              "      <td>12.394581</td>\n",
              "      <td>2.166048</td>\n",
              "      <td>9.211608</td>\n",
              "      <td>12.205294</td>\n",
              "      <td>9.561973</td>\n",
              "      <td>0.662057</td>\n",
              "      <td>0.641378</td>\n",
              "      <td>0.227936</td>\n",
              "      <td>...</td>\n",
              "      <td>37.829955</td>\n",
              "      <td>1.555386</td>\n",
              "      <td>0.489782</td>\n",
              "      <td>0.301012</td>\n",
              "      <td>17.88442</td>\n",
              "      <td>23.735687</td>\n",
              "      <td>58.184579</td>\n",
              "      <td>0.468436</td>\n",
              "      <td>0.380308</td>\n",
              "      <td>0.591269</td>\n",
              "    </tr>\n",
              "    <tr>\n",
              "      <th>min</th>\n",
              "      <td>2020.0</td>\n",
              "      <td>1.00000</td>\n",
              "      <td>11.000000</td>\n",
              "      <td>9.000000</td>\n",
              "      <td>130.000000</td>\n",
              "      <td>30.000000</td>\n",
              "      <td>53.000000</td>\n",
              "      <td>0.100000</td>\n",
              "      <td>0.100000</td>\n",
              "      <td>1.000000</td>\n",
              "      <td>...</td>\n",
              "      <td>13.000000</td>\n",
              "      <td>5.100000</td>\n",
              "      <td>1.000000</td>\n",
              "      <td>0.050000</td>\n",
              "      <td>3.00000</td>\n",
              "      <td>2.000000</td>\n",
              "      <td>3.000000</td>\n",
              "      <td>0.000000</td>\n",
              "      <td>0.000000</td>\n",
              "      <td>0.000000</td>\n",
              "    </tr>\n",
              "    <tr>\n",
              "      <th>25%</th>\n",
              "      <td>2020.0</td>\n",
              "      <td>2500.75000</td>\n",
              "      <td>27.000000</td>\n",
              "      <td>10.000000</td>\n",
              "      <td>155.000000</td>\n",
              "      <td>55.000000</td>\n",
              "      <td>76.000000</td>\n",
              "      <td>0.700000</td>\n",
              "      <td>0.700000</td>\n",
              "      <td>1.000000</td>\n",
              "      <td>...</td>\n",
              "      <td>89.000000</td>\n",
              "      <td>13.200000</td>\n",
              "      <td>1.000000</td>\n",
              "      <td>0.700000</td>\n",
              "      <td>20.00000</td>\n",
              "      <td>16.000000</td>\n",
              "      <td>16.000000</td>\n",
              "      <td>0.000000</td>\n",
              "      <td>0.000000</td>\n",
              "      <td>0.000000</td>\n",
              "    </tr>\n",
              "    <tr>\n",
              "      <th>50%</th>\n",
              "      <td>2020.0</td>\n",
              "      <td>5000.50000</td>\n",
              "      <td>41.000000</td>\n",
              "      <td>12.000000</td>\n",
              "      <td>160.000000</td>\n",
              "      <td>60.000000</td>\n",
              "      <td>82.000000</td>\n",
              "      <td>0.900000</td>\n",
              "      <td>0.900000</td>\n",
              "      <td>1.000000</td>\n",
              "      <td>...</td>\n",
              "      <td>115.000000</td>\n",
              "      <td>14.200000</td>\n",
              "      <td>1.000000</td>\n",
              "      <td>0.800000</td>\n",
              "      <td>24.00000</td>\n",
              "      <td>21.000000</td>\n",
              "      <td>24.000000</td>\n",
              "      <td>0.000000</td>\n",
              "      <td>0.000000</td>\n",
              "      <td>1.000000</td>\n",
              "    </tr>\n",
              "    <tr>\n",
              "      <th>75%</th>\n",
              "      <td>2020.0</td>\n",
              "      <td>7500.25000</td>\n",
              "      <td>44.000000</td>\n",
              "      <td>13.000000</td>\n",
              "      <td>170.000000</td>\n",
              "      <td>70.000000</td>\n",
              "      <td>88.900000</td>\n",
              "      <td>1.200000</td>\n",
              "      <td>1.200000</td>\n",
              "      <td>1.000000</td>\n",
              "      <td>...</td>\n",
              "      <td>141.000000</td>\n",
              "      <td>15.300000</td>\n",
              "      <td>1.000000</td>\n",
              "      <td>1.000000</td>\n",
              "      <td>30.00000</td>\n",
              "      <td>31.000000</td>\n",
              "      <td>39.000000</td>\n",
              "      <td>1.000000</td>\n",
              "      <td>0.000000</td>\n",
              "      <td>1.000000</td>\n",
              "    </tr>\n",
              "    <tr>\n",
              "      <th>max</th>\n",
              "      <td>2020.0</td>\n",
              "      <td>10000.00000</td>\n",
              "      <td>49.000000</td>\n",
              "      <td>18.000000</td>\n",
              "      <td>195.000000</td>\n",
              "      <td>130.000000</td>\n",
              "      <td>134.000000</td>\n",
              "      <td>9.900000</td>\n",
              "      <td>9.900000</td>\n",
              "      <td>3.000000</td>\n",
              "      <td>...</td>\n",
              "      <td>297.000000</td>\n",
              "      <td>20.000000</td>\n",
              "      <td>6.000000</td>\n",
              "      <td>9.200000</td>\n",
              "      <td>692.00000</td>\n",
              "      <td>1146.000000</td>\n",
              "      <td>2322.000000</td>\n",
              "      <td>1.000000</td>\n",
              "      <td>1.000000</td>\n",
              "      <td>2.000000</td>\n",
              "    </tr>\n",
              "  </tbody>\n",
              "</table>\n",
              "<p>8 rows × 27 columns</p>\n",
              "</div>\n",
              "      <button class=\"colab-df-convert\" onclick=\"convertToInteractive('df-4d488832-7944-4817-aacd-9c32861059a7')\"\n",
              "              title=\"Convert this dataframe to an interactive table.\"\n",
              "              style=\"display:none;\">\n",
              "        \n",
              "  <svg xmlns=\"http://www.w3.org/2000/svg\" height=\"24px\"viewBox=\"0 0 24 24\"\n",
              "       width=\"24px\">\n",
              "    <path d=\"M0 0h24v24H0V0z\" fill=\"none\"/>\n",
              "    <path d=\"M18.56 5.44l.94 2.06.94-2.06 2.06-.94-2.06-.94-.94-2.06-.94 2.06-2.06.94zm-11 1L8.5 8.5l.94-2.06 2.06-.94-2.06-.94L8.5 2.5l-.94 2.06-2.06.94zm10 10l.94 2.06.94-2.06 2.06-.94-2.06-.94-.94-2.06-.94 2.06-2.06.94z\"/><path d=\"M17.41 7.96l-1.37-1.37c-.4-.4-.92-.59-1.43-.59-.52 0-1.04.2-1.43.59L10.3 9.45l-7.72 7.72c-.78.78-.78 2.05 0 2.83L4 21.41c.39.39.9.59 1.41.59.51 0 1.02-.2 1.41-.59l7.78-7.78 2.81-2.81c.8-.78.8-2.07 0-2.86zM5.41 20L4 18.59l7.72-7.72 1.47 1.35L5.41 20z\"/>\n",
              "  </svg>\n",
              "      </button>\n",
              "      \n",
              "  <style>\n",
              "    .colab-df-container {\n",
              "      display:flex;\n",
              "      flex-wrap:wrap;\n",
              "      gap: 12px;\n",
              "    }\n",
              "\n",
              "    .colab-df-convert {\n",
              "      background-color: #E8F0FE;\n",
              "      border: none;\n",
              "      border-radius: 50%;\n",
              "      cursor: pointer;\n",
              "      display: none;\n",
              "      fill: #1967D2;\n",
              "      height: 32px;\n",
              "      padding: 0 0 0 0;\n",
              "      width: 32px;\n",
              "    }\n",
              "\n",
              "    .colab-df-convert:hover {\n",
              "      background-color: #E2EBFA;\n",
              "      box-shadow: 0px 1px 2px rgba(60, 64, 67, 0.3), 0px 1px 3px 1px rgba(60, 64, 67, 0.15);\n",
              "      fill: #174EA6;\n",
              "    }\n",
              "\n",
              "    [theme=dark] .colab-df-convert {\n",
              "      background-color: #3B4455;\n",
              "      fill: #D2E3FC;\n",
              "    }\n",
              "\n",
              "    [theme=dark] .colab-df-convert:hover {\n",
              "      background-color: #434B5C;\n",
              "      box-shadow: 0px 1px 3px 1px rgba(0, 0, 0, 0.15);\n",
              "      filter: drop-shadow(0px 1px 2px rgba(0, 0, 0, 0.3));\n",
              "      fill: #FFFFFF;\n",
              "    }\n",
              "  </style>\n",
              "\n",
              "      <script>\n",
              "        const buttonEl =\n",
              "          document.querySelector('#df-4d488832-7944-4817-aacd-9c32861059a7 button.colab-df-convert');\n",
              "        buttonEl.style.display =\n",
              "          google.colab.kernel.accessAllowed ? 'block' : 'none';\n",
              "\n",
              "        async function convertToInteractive(key) {\n",
              "          const element = document.querySelector('#df-4d488832-7944-4817-aacd-9c32861059a7');\n",
              "          const dataTable =\n",
              "            await google.colab.kernel.invokeFunction('convertToInteractive',\n",
              "                                                     [key], {});\n",
              "          if (!dataTable) return;\n",
              "\n",
              "          const docLinkHtml = 'Like what you see? Visit the ' +\n",
              "            '<a target=\"_blank\" href=https://colab.research.google.com/notebooks/data_table.ipynb>data table notebook</a>'\n",
              "            + ' to learn more about interactive tables.';\n",
              "          element.innerHTML = '';\n",
              "          dataTable['output_type'] = 'display_data';\n",
              "          await google.colab.output.renderOutput(dataTable, element);\n",
              "          const docLink = document.createElement('div');\n",
              "          docLink.innerHTML = docLinkHtml;\n",
              "          element.appendChild(docLink);\n",
              "        }\n",
              "      </script>\n",
              "    </div>\n",
              "  </div>\n",
              "  "
            ]
          },
          "metadata": {},
          "execution_count": 3
        }
      ]
    },
    {
      "cell_type": "markdown",
      "source": [
        "흡연상태를 이진 클래스로 변경하기위해 흡연 경험이 있는 사람들은 'Yes'로 합쳐서 흡연을 한번도 하지 않은 사람과 구분하였다."
      ],
      "metadata": {
        "id": "7HWNiEfjaT00"
      }
    },
    {
      "cell_type": "code",
      "source": [
        "health = health.replace({'흡연상태' : 'NotNow'}, 'Yes')"
      ],
      "metadata": {
        "id": "EVTZIASC_Ood"
      },
      "execution_count": 4,
      "outputs": []
    },
    {
      "cell_type": "code",
      "source": [
        "health = health.replace({'흡연상태' : 'Yes'}, '1')\n",
        "health = health.replace({'흡연상태' : 'No'}, '0')"
      ],
      "metadata": {
        "id": "schMNwqyVQHG"
      },
      "execution_count": 5,
      "outputs": []
    },
    {
      "cell_type": "code",
      "source": [
        "display(health.info()) "
      ],
      "metadata": {
        "colab": {
          "base_uri": "https://localhost:8080/",
          "height": 746
        },
        "id": "OqH2ubzcCpWl",
        "outputId": "d5b4d7a8-3afe-4d4b-eb34-1ba0935328ce"
      },
      "execution_count": 6,
      "outputs": [
        {
          "output_type": "stream",
          "name": "stdout",
          "text": [
            "<class 'pandas.core.frame.DataFrame'>\n",
            "RangeIndex: 10000 entries, 0 to 9999\n",
            "Data columns (total 31 columns):\n",
            " #   Column       Non-Null Count  Dtype  \n",
            "---  ------       --------------  -----  \n",
            " 0   기준년도         10000 non-null  int64  \n",
            " 1   가입자일련번호      10000 non-null  int64  \n",
            " 2   시도코드         10000 non-null  int64  \n",
            " 3   성별코드         10000 non-null  object \n",
            " 4   연령대코드(5세단위)  10000 non-null  int64  \n",
            " 5   신장(5Cm단위)    10000 non-null  int64  \n",
            " 6   체중(5Kg 단위)   10000 non-null  int64  \n",
            " 7   허리둘레         10000 non-null  float64\n",
            " 8   시력(좌)        10000 non-null  float64\n",
            " 9   시력(우)        10000 non-null  float64\n",
            " 10  청력(좌)        10000 non-null  int64  \n",
            " 11  청력(우)        10000 non-null  int64  \n",
            " 12  수축기혈압        9912 non-null   float64\n",
            " 13  이완기혈압        9912 non-null   float64\n",
            " 14  식전혈당(공복혈당)   9912 non-null   float64\n",
            " 15  총콜레스테롤       4044 non-null   float64\n",
            " 16  트리글리세라이드     4044 non-null   float64\n",
            " 17  HDL콜레스테롤     4044 non-null   float64\n",
            " 18  LDL콜레스테롤     3977 non-null   float64\n",
            " 19  혈색소          9912 non-null   float64\n",
            " 20  요단백          9861 non-null   float64\n",
            " 21  혈청크레아티닌      9912 non-null   float64\n",
            " 22  (혈청지오티)AST   9912 non-null   float64\n",
            " 23  (혈청지오티)ALT   9912 non-null   float64\n",
            " 24  감마지티피        9912 non-null   float64\n",
            " 25  흡연상태         9998 non-null   object \n",
            " 26  음주여부         9999 non-null   object \n",
            " 27  구강검진수검여부     10000 non-null  int64  \n",
            " 28  치아우식증유무      3251 non-null   float64\n",
            " 29  치석           3251 non-null   float64\n",
            " 30  데이터공개일자      10000 non-null  object \n",
            "dtypes: float64(18), int64(9), object(4)\n",
            "memory usage: 2.4+ MB\n"
          ]
        },
        {
          "output_type": "display_data",
          "data": {
            "text/plain": [
              "None"
            ]
          },
          "metadata": {}
        }
      ]
    },
    {
      "cell_type": "markdown",
      "source": [
        "LDL콜레스테롤이 가장 많은 null값을 가지고 있어서 LDL콜레스테롤의 na값을 지웠다."
      ],
      "metadata": {
        "id": "UH6CGImsaoEz"
      }
    },
    {
      "cell_type": "code",
      "source": [
        "health = health.dropna(subset = [\"LDL콜레스테롤\"])\n",
        "\n",
        "health.isna().sum()"
      ],
      "metadata": {
        "colab": {
          "base_uri": "https://localhost:8080/"
        },
        "id": "jFruNRiP5bJW",
        "outputId": "52a031f9-6c18-4377-c0d4-a816d3c6552d"
      },
      "execution_count": 7,
      "outputs": [
        {
          "output_type": "execute_result",
          "data": {
            "text/plain": [
              "기준년도              0\n",
              "가입자일련번호           0\n",
              "시도코드              0\n",
              "성별코드              0\n",
              "연령대코드(5세단위)       0\n",
              "신장(5Cm단위)         0\n",
              "체중(5Kg 단위)        0\n",
              "허리둘레              0\n",
              "시력(좌)             0\n",
              "시력(우)             0\n",
              "청력(좌)             0\n",
              "청력(우)             0\n",
              "수축기혈압             0\n",
              "이완기혈압             0\n",
              "식전혈당(공복혈당)        0\n",
              "총콜레스테롤            0\n",
              "트리글리세라이드          0\n",
              "HDL콜레스테롤          0\n",
              "LDL콜레스테롤          0\n",
              "혈색소               0\n",
              "요단백              21\n",
              "혈청크레아티닌           0\n",
              "(혈청지오티)AST        0\n",
              "(혈청지오티)ALT        0\n",
              "감마지티피             0\n",
              "흡연상태              0\n",
              "음주여부              1\n",
              "구강검진수검여부          0\n",
              "치아우식증유무        2723\n",
              "치석             2723\n",
              "데이터공개일자           0\n",
              "dtype: int64"
            ]
          },
          "metadata": {},
          "execution_count": 7
        }
      ]
    },
    {
      "cell_type": "markdown",
      "source": [
        "실수가 아니거나 통계에 중요하지 않을 것같은 변수들은 삭제하였다."
      ],
      "metadata": {
        "id": "xRF_qlBFawJ4"
      }
    },
    {
      "cell_type": "code",
      "source": [
        "health= health.drop(['성별코드'], axis = 1)\n",
        "health= health.drop(['시도코드'], axis = 1)\n",
        "health= health.drop(['기준년도'], axis = 1)\n",
        "health= health.drop(['음주여부'], axis = 1)\n",
        "health= health.drop(['구강검진수검여부'], axis = 1)\n",
        "health= health.drop(['치아우식증유무'], axis = 1)\n",
        "health= health.drop(['요단백'], axis = 1)\n",
        "health= health.drop(['치석'], axis = 1)\n",
        "health= health.drop(['가입자일련번호'], axis = 1)\n",
        "health= health.drop(['데이터공개일자'], axis = 1)\n",
        "\n",
        "health.isna().sum()"
      ],
      "metadata": {
        "colab": {
          "base_uri": "https://localhost:8080/"
        },
        "id": "841prFJ65ecQ",
        "outputId": "d2a04ecd-5d82-42cd-928c-7b0c29ee91ad"
      },
      "execution_count": 8,
      "outputs": [
        {
          "output_type": "execute_result",
          "data": {
            "text/plain": [
              "연령대코드(5세단위)    0\n",
              "신장(5Cm단위)      0\n",
              "체중(5Kg 단위)     0\n",
              "허리둘레           0\n",
              "시력(좌)          0\n",
              "시력(우)          0\n",
              "청력(좌)          0\n",
              "청력(우)          0\n",
              "수축기혈압          0\n",
              "이완기혈압          0\n",
              "식전혈당(공복혈당)     0\n",
              "총콜레스테롤         0\n",
              "트리글리세라이드       0\n",
              "HDL콜레스테롤       0\n",
              "LDL콜레스테롤       0\n",
              "혈색소            0\n",
              "혈청크레아티닌        0\n",
              "(혈청지오티)AST     0\n",
              "(혈청지오티)ALT     0\n",
              "감마지티피          0\n",
              "흡연상태           0\n",
              "dtype: int64"
            ]
          },
          "metadata": {},
          "execution_count": 8
        }
      ]
    },
    {
      "cell_type": "code",
      "source": [
        "health.columns"
      ],
      "metadata": {
        "colab": {
          "base_uri": "https://localhost:8080/"
        },
        "id": "w6k8iqxK5_Ts",
        "outputId": "7c20934f-a10f-497b-d6c2-6f835fb85e5d"
      },
      "execution_count": 9,
      "outputs": [
        {
          "output_type": "execute_result",
          "data": {
            "text/plain": [
              "Index(['연령대코드(5세단위)', '신장(5Cm단위)', '체중(5Kg 단위)', '허리둘레', '시력(좌)', '시력(우)',\n",
              "       '청력(좌)', '청력(우)', '수축기혈압', '이완기혈압', '식전혈당(공복혈당)', '총콜레스테롤', '트리글리세라이드',\n",
              "       'HDL콜레스테롤', 'LDL콜레스테롤', '혈색소', '혈청크레아티닌', '(혈청지오티)AST', '(혈청지오티)ALT',\n",
              "       '감마지티피', '흡연상태'],\n",
              "      dtype='object')"
            ]
          },
          "metadata": {},
          "execution_count": 9
        }
      ]
    },
    {
      "cell_type": "code",
      "source": [
        "health=health[['흡연상태', '연령대코드(5세단위)', '신장(5Cm단위)', '체중(5Kg 단위)', '허리둘레', '시력(좌)', '시력(우)',\n",
        "       '청력(좌)', '청력(우)', '수축기혈압', '이완기혈압', '식전혈당(공복혈당)', '총콜레스테롤', '트리글리세라이드',\n",
        "       'HDL콜레스테롤', 'LDL콜레스테롤', '혈색소', '혈청크레아티닌', '(혈청지오티)AST', '(혈청지오티)ALT',\n",
        "       '감마지티피']]"
      ],
      "metadata": {
        "id": "oDacz39l6EN_"
      },
      "execution_count": 10,
      "outputs": []
    },
    {
      "cell_type": "code",
      "source": [
        "health['흡연상태'] = health['흡연상태'].astype('int64')\n",
        "print(health.info())"
      ],
      "metadata": {
        "colab": {
          "base_uri": "https://localhost:8080/"
        },
        "id": "nETMfYVEWpON",
        "outputId": "4a32d92b-0729-4ea6-95e2-3020ca66c332"
      },
      "execution_count": 11,
      "outputs": [
        {
          "output_type": "stream",
          "name": "stdout",
          "text": [
            "<class 'pandas.core.frame.DataFrame'>\n",
            "Int64Index: 3977 entries, 0 to 9999\n",
            "Data columns (total 21 columns):\n",
            " #   Column       Non-Null Count  Dtype  \n",
            "---  ------       --------------  -----  \n",
            " 0   흡연상태         3977 non-null   int64  \n",
            " 1   연령대코드(5세단위)  3977 non-null   int64  \n",
            " 2   신장(5Cm단위)    3977 non-null   int64  \n",
            " 3   체중(5Kg 단위)   3977 non-null   int64  \n",
            " 4   허리둘레         3977 non-null   float64\n",
            " 5   시력(좌)        3977 non-null   float64\n",
            " 6   시력(우)        3977 non-null   float64\n",
            " 7   청력(좌)        3977 non-null   int64  \n",
            " 8   청력(우)        3977 non-null   int64  \n",
            " 9   수축기혈압        3977 non-null   float64\n",
            " 10  이완기혈압        3977 non-null   float64\n",
            " 11  식전혈당(공복혈당)   3977 non-null   float64\n",
            " 12  총콜레스테롤       3977 non-null   float64\n",
            " 13  트리글리세라이드     3977 non-null   float64\n",
            " 14  HDL콜레스테롤     3977 non-null   float64\n",
            " 15  LDL콜레스테롤     3977 non-null   float64\n",
            " 16  혈색소          3977 non-null   float64\n",
            " 17  혈청크레아티닌      3977 non-null   float64\n",
            " 18  (혈청지오티)AST   3977 non-null   float64\n",
            " 19  (혈청지오티)ALT   3977 non-null   float64\n",
            " 20  감마지티피        3977 non-null   float64\n",
            "dtypes: float64(15), int64(6)\n",
            "memory usage: 683.5 KB\n",
            "None\n"
          ]
        }
      ]
    },
    {
      "cell_type": "markdown",
      "source": [
        "한글오류를 해결하기위해 영어로 변수명을 수정하였고, 영어 변경이 어려운 변수는 임의로 알파벳을 지정하였다"
      ],
      "metadata": {
        "id": "aJrPS5-ia7fq"
      }
    },
    {
      "cell_type": "code",
      "source": [
        "health= health.rename (columns = {'흡연상태': 'smoke','연령대코드(5세단위)':'age','신장(5Cm단위)':'height', '체중(5Kg 단위)':'kg', '허리둘레':'waist', '시력(좌)':'leye', '시력(우)':'reye',\n",
        "       '청력(좌)':'lear', '청력(우)':'rear', '수축기혈압':'a', '이완기혈압':'b', '식전혈당(공복혈당)':'c', '총콜레스테롤':'d', '트리글리세라이드':'e',\n",
        "       'HDL콜레스테롤':'HDL', 'LDL콜레스테롤':'LDL', '혈색소':'f', '혈청크레아티닌':'g', '(혈청지오티)AST':'AST', '(혈청지오티)ALT':'ALT',\n",
        "       '감마지티피':'h' }) \n",
        " \n",
        "\n",
        "print(health.info())"
      ],
      "metadata": {
        "colab": {
          "base_uri": "https://localhost:8080/"
        },
        "id": "02Rz1eZUCjlX",
        "outputId": "f051f389-52b6-465e-de60-e90de7870b1d"
      },
      "execution_count": 12,
      "outputs": [
        {
          "output_type": "stream",
          "name": "stdout",
          "text": [
            "<class 'pandas.core.frame.DataFrame'>\n",
            "Int64Index: 3977 entries, 0 to 9999\n",
            "Data columns (total 21 columns):\n",
            " #   Column  Non-Null Count  Dtype  \n",
            "---  ------  --------------  -----  \n",
            " 0   smoke   3977 non-null   int64  \n",
            " 1   age     3977 non-null   int64  \n",
            " 2   height  3977 non-null   int64  \n",
            " 3   kg      3977 non-null   int64  \n",
            " 4   waist   3977 non-null   float64\n",
            " 5   leye    3977 non-null   float64\n",
            " 6   reye    3977 non-null   float64\n",
            " 7   lear    3977 non-null   int64  \n",
            " 8   rear    3977 non-null   int64  \n",
            " 9   a       3977 non-null   float64\n",
            " 10  b       3977 non-null   float64\n",
            " 11  c       3977 non-null   float64\n",
            " 12  d       3977 non-null   float64\n",
            " 13  e       3977 non-null   float64\n",
            " 14  HDL     3977 non-null   float64\n",
            " 15  LDL     3977 non-null   float64\n",
            " 16  f       3977 non-null   float64\n",
            " 17  g       3977 non-null   float64\n",
            " 18  AST     3977 non-null   float64\n",
            " 19  ALT     3977 non-null   float64\n",
            " 20  h       3977 non-null   float64\n",
            "dtypes: float64(15), int64(6)\n",
            "memory usage: 683.5 KB\n",
            "None\n"
          ]
        }
      ]
    },
    {
      "cell_type": "markdown",
      "source": [
        "##의사결정나무"
      ],
      "metadata": {
        "id": "j3m2s9X8Bj_e"
      }
    },
    {
      "cell_type": "code",
      "source": [
        "from sklearn.tree import DecisionTreeClassifier\n",
        "from sklearn.model_selection import train_test_split\n",
        "\n",
        "X = health.iloc[:, 1:]\n",
        "y = health['smoke']\n",
        "\n",
        "X_train, X_test, y_train, y_test = train_test_split(X, y, test_size = 0.25, random_state=42)\n",
        "\n",
        "tree = DecisionTreeClassifier(random_state=0)  \n",
        "tree.fit(X_train, y_train)\n",
        "print(\"학습용 데이터 정확도: {:.3f}\".format(tree.score(X_train, y_train)))\n",
        "print(\"시험용 데이터 정확도: {:.3f}\".format(tree.score(X_test, y_test)))"
      ],
      "metadata": {
        "colab": {
          "base_uri": "https://localhost:8080/"
        },
        "id": "dEAitdRX6Vme",
        "outputId": "a8284157-0955-4f65-bd84-a385a75528e1"
      },
      "execution_count": 13,
      "outputs": [
        {
          "output_type": "stream",
          "name": "stdout",
          "text": [
            "학습용 데이터 정확도: 1.000\n",
            "시험용 데이터 정확도: 0.713\n"
          ]
        }
      ]
    },
    {
      "cell_type": "code",
      "source": [
        "tree = DecisionTreeClassifier(max_depth=4, random_state=0)\n",
        "tree.fit(X_train, y_train)\n",
        "\n",
        "from sklearn import metrics\n",
        "y_pred = tree.predict(X_test)\n",
        "fpr_dt, tpr_dt, cutoff_dt = metrics.roc_curve(y_test, y_pred)\n",
        "\n",
        "print(\"학습용 데이터 정확도: {:.3f}\".format(tree.score(X_train, y_train)))\n",
        "print(\"시험용 데이터 정확도: {:.3f}\".format(tree.score(X_test, y_test)))"
      ],
      "metadata": {
        "colab": {
          "base_uri": "https://localhost:8080/"
        },
        "id": "5iTM7B896d7A",
        "outputId": "abbcfcd1-6cdb-44f0-a705-264b5f4147ba"
      },
      "execution_count": 14,
      "outputs": [
        {
          "output_type": "stream",
          "name": "stdout",
          "text": [
            "학습용 데이터 정확도: 0.783\n",
            "시험용 데이터 정확도: 0.791\n"
          ]
        }
      ]
    },
    {
      "cell_type": "code",
      "source": [
        "from sklearn.tree import export_graphviz\n",
        "import graphviz\n",
        "\n",
        "export_graphviz(tree, out_file=\"tree.dot\", class_names=[ \"True\", \"False\"],\n",
        "                feature_names=health.columns[1:], impurity=False, filled=True)\n",
        "\n",
        "with open(\"tree.dot\") as f:\n",
        "    dot_graph = f.read()\n",
        "\n",
        "display(graphviz.Source(dot_graph))"
      ],
      "metadata": {
        "colab": {
          "base_uri": "https://localhost:8080/",
          "height": 676
        },
        "id": "rZ04RENp6fB4",
        "outputId": "7bd22f74-aada-4333-b685-4779b55744fb"
      },
      "execution_count": 15,
      "outputs": [
        {
          "output_type": "display_data",
          "data": {
            "text/plain": [
              "<graphviz.files.Source at 0x7f9c26ecbf50>"
            ],
            "image/svg+xml": "<?xml version=\"1.0\" encoding=\"UTF-8\" standalone=\"no\"?>\n<!DOCTYPE svg PUBLIC \"-//W3C//DTD SVG 1.1//EN\"\n \"http://www.w3.org/Graphics/SVG/1.1/DTD/svg11.dtd\">\n<!-- Generated by graphviz version 2.40.1 (20161225.0304)\n -->\n<!-- Title: Tree Pages: 1 -->\n<svg width=\"2148pt\" height=\"477pt\"\n viewBox=\"0.00 0.00 2148.00 477.00\" xmlns=\"http://www.w3.org/2000/svg\" xmlns:xlink=\"http://www.w3.org/1999/xlink\">\n<g id=\"graph0\" class=\"graph\" transform=\"scale(1 1) rotate(0) translate(4 473)\">\n<title>Tree</title>\n<polygon fill=\"#ffffff\" stroke=\"transparent\" points=\"-4,4 -4,-473 2144,-473 2144,4 -4,4\"/>\n<!-- 0 -->\n<g id=\"node1\" class=\"node\">\n<title>0</title>\n<polygon fill=\"#f4c9aa\" stroke=\"#000000\" points=\"1130.5,-469 981.5,-469 981.5,-401 1130.5,-401 1130.5,-469\"/>\n<text text-anchor=\"middle\" x=\"1056\" y=\"-453.8\" font-family=\"Helvetica,sans-Serif\" font-size=\"14.00\" fill=\"#000000\">height &lt;= 162.5</text>\n<text text-anchor=\"middle\" x=\"1056\" y=\"-438.8\" font-family=\"Helvetica,sans-Serif\" font-size=\"14.00\" fill=\"#000000\">samples = 2982</text>\n<text text-anchor=\"middle\" x=\"1056\" y=\"-423.8\" font-family=\"Helvetica,sans-Serif\" font-size=\"14.00\" fill=\"#000000\">value = [1901, 1081]</text>\n<text text-anchor=\"middle\" x=\"1056\" y=\"-408.8\" font-family=\"Helvetica,sans-Serif\" font-size=\"14.00\" fill=\"#000000\">class = True</text>\n</g>\n<!-- 1 -->\n<g id=\"node2\" class=\"node\">\n<title>1</title>\n<polygon fill=\"#ea995f\" stroke=\"#000000\" points=\"869,-365 729,-365 729,-297 869,-297 869,-365\"/>\n<text text-anchor=\"middle\" x=\"799\" y=\"-349.8\" font-family=\"Helvetica,sans-Serif\" font-size=\"14.00\" fill=\"#000000\">f &lt;= 14.65</text>\n<text text-anchor=\"middle\" x=\"799\" y=\"-334.8\" font-family=\"Helvetica,sans-Serif\" font-size=\"14.00\" fill=\"#000000\">samples = 1700</text>\n<text text-anchor=\"middle\" x=\"799\" y=\"-319.8\" font-family=\"Helvetica,sans-Serif\" font-size=\"14.00\" fill=\"#000000\">value = [1427, 273]</text>\n<text text-anchor=\"middle\" x=\"799\" y=\"-304.8\" font-family=\"Helvetica,sans-Serif\" font-size=\"14.00\" fill=\"#000000\">class = True</text>\n</g>\n<!-- 0&#45;&gt;1 -->\n<g id=\"edge1\" class=\"edge\">\n<title>0&#45;&gt;1</title>\n<path fill=\"none\" stroke=\"#000000\" d=\"M981.3197,-404.7792C949.0815,-391.7334 911.3271,-376.4553 878.5629,-363.1967\"/>\n<polygon fill=\"#000000\" stroke=\"#000000\" points=\"879.5989,-359.8402 869.0161,-359.3334 876.973,-366.3291 879.5989,-359.8402\"/>\n<text text-anchor=\"middle\" x=\"878.7717\" y=\"-378.6514\" font-family=\"Helvetica,sans-Serif\" font-size=\"14.00\" fill=\"#000000\">True</text>\n</g>\n<!-- 16 -->\n<g id=\"node17\" class=\"node\">\n<title>16</title>\n<polygon fill=\"#add6f4\" stroke=\"#000000\" points=\"1388,-365 1256,-365 1256,-297 1388,-297 1388,-365\"/>\n<text text-anchor=\"middle\" x=\"1322\" y=\"-349.8\" font-family=\"Helvetica,sans-Serif\" font-size=\"14.00\" fill=\"#000000\">h &lt;= 17.5</text>\n<text text-anchor=\"middle\" x=\"1322\" y=\"-334.8\" font-family=\"Helvetica,sans-Serif\" font-size=\"14.00\" fill=\"#000000\">samples = 1282</text>\n<text text-anchor=\"middle\" x=\"1322\" y=\"-319.8\" font-family=\"Helvetica,sans-Serif\" font-size=\"14.00\" fill=\"#000000\">value = [474, 808]</text>\n<text text-anchor=\"middle\" x=\"1322\" y=\"-304.8\" font-family=\"Helvetica,sans-Serif\" font-size=\"14.00\" fill=\"#000000\">class = False</text>\n</g>\n<!-- 0&#45;&gt;16 -->\n<g id=\"edge16\" class=\"edge\">\n<title>0&#45;&gt;16</title>\n<path fill=\"none\" stroke=\"#000000\" d=\"M1130.8037,-405.7534C1166.9148,-391.6348 1210.1558,-374.7286 1246.3741,-360.568\"/>\n<polygon fill=\"#000000\" stroke=\"#000000\" points=\"1247.8664,-363.7426 1255.9054,-356.8415 1245.3175,-357.2232 1247.8664,-363.7426\"/>\n<text text-anchor=\"middle\" x=\"1245.8785\" y=\"-376.0426\" font-family=\"Helvetica,sans-Serif\" font-size=\"14.00\" fill=\"#000000\">False</text>\n</g>\n<!-- 2 -->\n<g id=\"node3\" class=\"node\">\n<title>2</title>\n<polygon fill=\"#e89051\" stroke=\"#000000\" points=\"469,-261 329,-261 329,-193 469,-193 469,-261\"/>\n<text text-anchor=\"middle\" x=\"399\" y=\"-245.8\" font-family=\"Helvetica,sans-Serif\" font-size=\"14.00\" fill=\"#000000\">g &lt;= 0.85</text>\n<text text-anchor=\"middle\" x=\"399\" y=\"-230.8\" font-family=\"Helvetica,sans-Serif\" font-size=\"14.00\" fill=\"#000000\">samples = 1391</text>\n<text text-anchor=\"middle\" x=\"399\" y=\"-215.8\" font-family=\"Helvetica,sans-Serif\" font-size=\"14.00\" fill=\"#000000\">value = [1243, 148]</text>\n<text text-anchor=\"middle\" x=\"399\" y=\"-200.8\" font-family=\"Helvetica,sans-Serif\" font-size=\"14.00\" fill=\"#000000\">class = True</text>\n</g>\n<!-- 1&#45;&gt;2 -->\n<g id=\"edge2\" class=\"edge\">\n<title>1&#45;&gt;2</title>\n<path fill=\"none\" stroke=\"#000000\" d=\"M728.8676,-312.7656C659.1055,-294.6274 552.2036,-266.8329 479.1308,-247.834\"/>\n<polygon fill=\"#000000\" stroke=\"#000000\" points=\"479.6108,-244.3425 469.0519,-245.2135 477.8494,-251.1173 479.6108,-244.3425\"/>\n</g>\n<!-- 9 -->\n<g id=\"node10\" class=\"node\">\n<title>9</title>\n<polygon fill=\"#f7d7c0\" stroke=\"#000000\" points=\"865,-261 733,-261 733,-193 865,-193 865,-261\"/>\n<text text-anchor=\"middle\" x=\"799\" y=\"-245.8\" font-family=\"Helvetica,sans-Serif\" font-size=\"14.00\" fill=\"#000000\">height &lt;= 157.5</text>\n<text text-anchor=\"middle\" x=\"799\" y=\"-230.8\" font-family=\"Helvetica,sans-Serif\" font-size=\"14.00\" fill=\"#000000\">samples = 309</text>\n<text text-anchor=\"middle\" x=\"799\" y=\"-215.8\" font-family=\"Helvetica,sans-Serif\" font-size=\"14.00\" fill=\"#000000\">value = [184, 125]</text>\n<text text-anchor=\"middle\" x=\"799\" y=\"-200.8\" font-family=\"Helvetica,sans-Serif\" font-size=\"14.00\" fill=\"#000000\">class = True</text>\n</g>\n<!-- 1&#45;&gt;9 -->\n<g id=\"edge9\" class=\"edge\">\n<title>1&#45;&gt;9</title>\n<path fill=\"none\" stroke=\"#000000\" d=\"M799,-296.9465C799,-288.776 799,-279.9318 799,-271.3697\"/>\n<polygon fill=\"#000000\" stroke=\"#000000\" points=\"802.5001,-271.13 799,-261.13 795.5001,-271.13 802.5001,-271.13\"/>\n</g>\n<!-- 3 -->\n<g id=\"node4\" class=\"node\">\n<title>3</title>\n<polygon fill=\"#e78a47\" stroke=\"#000000\" points=\"255,-157 131,-157 131,-89 255,-89 255,-157\"/>\n<text text-anchor=\"middle\" x=\"193\" y=\"-141.8\" font-family=\"Helvetica,sans-Serif\" font-size=\"14.00\" fill=\"#000000\">h &lt;= 183.5</text>\n<text text-anchor=\"middle\" x=\"193\" y=\"-126.8\" font-family=\"Helvetica,sans-Serif\" font-size=\"14.00\" fill=\"#000000\">samples = 1037</text>\n<text text-anchor=\"middle\" x=\"193\" y=\"-111.8\" font-family=\"Helvetica,sans-Serif\" font-size=\"14.00\" fill=\"#000000\">value = [970, 67]</text>\n<text text-anchor=\"middle\" x=\"193\" y=\"-96.8\" font-family=\"Helvetica,sans-Serif\" font-size=\"14.00\" fill=\"#000000\">class = True</text>\n</g>\n<!-- 2&#45;&gt;3 -->\n<g id=\"edge3\" class=\"edge\">\n<title>2&#45;&gt;3</title>\n<path fill=\"none\" stroke=\"#000000\" d=\"M331.5479,-192.9465C309.9866,-182.0612 286.0565,-169.98 264.235,-158.9633\"/>\n<polygon fill=\"#000000\" stroke=\"#000000\" points=\"265.5293,-155.696 255.025,-154.3136 262.3745,-161.9448 265.5293,-155.696\"/>\n</g>\n<!-- 6 -->\n<g id=\"node7\" class=\"node\">\n<title>6</title>\n<polygon fill=\"#eda674\" stroke=\"#000000\" points=\"461,-157 337,-157 337,-89 461,-89 461,-157\"/>\n<text text-anchor=\"middle\" x=\"399\" y=\"-141.8\" font-family=\"Helvetica,sans-Serif\" font-size=\"14.00\" fill=\"#000000\">height &lt;= 157.5</text>\n<text text-anchor=\"middle\" x=\"399\" y=\"-126.8\" font-family=\"Helvetica,sans-Serif\" font-size=\"14.00\" fill=\"#000000\">samples = 354</text>\n<text text-anchor=\"middle\" x=\"399\" y=\"-111.8\" font-family=\"Helvetica,sans-Serif\" font-size=\"14.00\" fill=\"#000000\">value = [273, 81]</text>\n<text text-anchor=\"middle\" x=\"399\" y=\"-96.8\" font-family=\"Helvetica,sans-Serif\" font-size=\"14.00\" fill=\"#000000\">class = True</text>\n</g>\n<!-- 2&#45;&gt;6 -->\n<g id=\"edge6\" class=\"edge\">\n<title>2&#45;&gt;6</title>\n<path fill=\"none\" stroke=\"#000000\" d=\"M399,-192.9465C399,-184.776 399,-175.9318 399,-167.3697\"/>\n<polygon fill=\"#000000\" stroke=\"#000000\" points=\"402.5001,-167.13 399,-157.13 395.5001,-167.13 402.5001,-167.13\"/>\n</g>\n<!-- 4 -->\n<g id=\"node5\" class=\"node\">\n<title>4</title>\n<polygon fill=\"#e78946\" stroke=\"#000000\" points=\"124,-53 0,-53 0,0 124,0 124,-53\"/>\n<text text-anchor=\"middle\" x=\"62\" y=\"-37.8\" font-family=\"Helvetica,sans-Serif\" font-size=\"14.00\" fill=\"#000000\">samples = 1030</text>\n<text text-anchor=\"middle\" x=\"62\" y=\"-22.8\" font-family=\"Helvetica,sans-Serif\" font-size=\"14.00\" fill=\"#000000\">value = [967, 63]</text>\n<text text-anchor=\"middle\" x=\"62\" y=\"-7.8\" font-family=\"Helvetica,sans-Serif\" font-size=\"14.00\" fill=\"#000000\">class = True</text>\n</g>\n<!-- 3&#45;&gt;4 -->\n<g id=\"edge4\" class=\"edge\">\n<title>3&#45;&gt;4</title>\n<path fill=\"none\" stroke=\"#000000\" d=\"M146.8143,-88.9777C133.7621,-79.3629 119.5861,-68.9203 106.6273,-59.3743\"/>\n<polygon fill=\"#000000\" stroke=\"#000000\" points=\"108.4386,-56.3615 98.3114,-53.2485 104.2869,-61.9974 108.4386,-56.3615\"/>\n</g>\n<!-- 5 -->\n<g id=\"node6\" class=\"node\">\n<title>5</title>\n<polygon fill=\"#cee6f8\" stroke=\"#000000\" points=\"244,-53 142,-53 142,0 244,0 244,-53\"/>\n<text text-anchor=\"middle\" x=\"193\" y=\"-37.8\" font-family=\"Helvetica,sans-Serif\" font-size=\"14.00\" fill=\"#000000\">samples = 7</text>\n<text text-anchor=\"middle\" x=\"193\" y=\"-22.8\" font-family=\"Helvetica,sans-Serif\" font-size=\"14.00\" fill=\"#000000\">value = [3, 4]</text>\n<text text-anchor=\"middle\" x=\"193\" y=\"-7.8\" font-family=\"Helvetica,sans-Serif\" font-size=\"14.00\" fill=\"#000000\">class = False</text>\n</g>\n<!-- 3&#45;&gt;5 -->\n<g id=\"edge5\" class=\"edge\">\n<title>3&#45;&gt;5</title>\n<path fill=\"none\" stroke=\"#000000\" d=\"M193,-88.9777C193,-80.7364 193,-71.887 193,-63.5153\"/>\n<polygon fill=\"#000000\" stroke=\"#000000\" points=\"196.5001,-63.2484 193,-53.2485 189.5001,-63.2485 196.5001,-63.2484\"/>\n</g>\n<!-- 7 -->\n<g id=\"node8\" class=\"node\">\n<title>7</title>\n<polygon fill=\"#e99355\" stroke=\"#000000\" points=\"386,-53 262,-53 262,0 386,0 386,-53\"/>\n<text text-anchor=\"middle\" x=\"324\" y=\"-37.8\" font-family=\"Helvetica,sans-Serif\" font-size=\"14.00\" fill=\"#000000\">samples = 231</text>\n<text text-anchor=\"middle\" x=\"324\" y=\"-22.8\" font-family=\"Helvetica,sans-Serif\" font-size=\"14.00\" fill=\"#000000\">value = [202, 29]</text>\n<text text-anchor=\"middle\" x=\"324\" y=\"-7.8\" font-family=\"Helvetica,sans-Serif\" font-size=\"14.00\" fill=\"#000000\">class = True</text>\n</g>\n<!-- 6&#45;&gt;7 -->\n<g id=\"edge7\" class=\"edge\">\n<title>6&#45;&gt;7</title>\n<path fill=\"none\" stroke=\"#000000\" d=\"M372.5578,-88.9777C365.5833,-80.0039 358.0484,-70.3089 351.0427,-61.295\"/>\n<polygon fill=\"#000000\" stroke=\"#000000\" points=\"353.6891,-58.9964 344.789,-53.2485 348.1621,-63.292 353.6891,-58.9964\"/>\n</g>\n<!-- 8 -->\n<g id=\"node9\" class=\"node\">\n<title>8</title>\n<polygon fill=\"#f8ddca\" stroke=\"#000000\" points=\"520,-53 404,-53 404,0 520,0 520,-53\"/>\n<text text-anchor=\"middle\" x=\"462\" y=\"-37.8\" font-family=\"Helvetica,sans-Serif\" font-size=\"14.00\" fill=\"#000000\">samples = 123</text>\n<text text-anchor=\"middle\" x=\"462\" y=\"-22.8\" font-family=\"Helvetica,sans-Serif\" font-size=\"14.00\" fill=\"#000000\">value = [71, 52]</text>\n<text text-anchor=\"middle\" x=\"462\" y=\"-7.8\" font-family=\"Helvetica,sans-Serif\" font-size=\"14.00\" fill=\"#000000\">class = True</text>\n</g>\n<!-- 6&#45;&gt;8 -->\n<g id=\"edge8\" class=\"edge\">\n<title>6&#45;&gt;8</title>\n<path fill=\"none\" stroke=\"#000000\" d=\"M421.2114,-88.9777C426.9504,-80.187 433.1412,-70.7044 438.9233,-61.8477\"/>\n<polygon fill=\"#000000\" stroke=\"#000000\" points=\"442.0013,-63.5354 444.5373,-53.2485 436.1398,-59.7087 442.0013,-63.5354\"/>\n</g>\n<!-- 10 -->\n<g id=\"node11\" class=\"node\">\n<title>10</title>\n<polygon fill=\"#eda877\" stroke=\"#000000\" points=\"792,-157 668,-157 668,-89 792,-89 792,-157\"/>\n<text text-anchor=\"middle\" x=\"730\" y=\"-141.8\" font-family=\"Helvetica,sans-Serif\" font-size=\"14.00\" fill=\"#000000\">h &lt;= 51.5</text>\n<text text-anchor=\"middle\" x=\"730\" y=\"-126.8\" font-family=\"Helvetica,sans-Serif\" font-size=\"14.00\" fill=\"#000000\">samples = 147</text>\n<text text-anchor=\"middle\" x=\"730\" y=\"-111.8\" font-family=\"Helvetica,sans-Serif\" font-size=\"14.00\" fill=\"#000000\">value = [112, 35]</text>\n<text text-anchor=\"middle\" x=\"730\" y=\"-96.8\" font-family=\"Helvetica,sans-Serif\" font-size=\"14.00\" fill=\"#000000\">class = True</text>\n</g>\n<!-- 9&#45;&gt;10 -->\n<g id=\"edge10\" class=\"edge\">\n<title>9&#45;&gt;10</title>\n<path fill=\"none\" stroke=\"#000000\" d=\"M776.4068,-192.9465C770.6286,-184.2373 764.3425,-174.7626 758.3166,-165.6801\"/>\n<polygon fill=\"#000000\" stroke=\"#000000\" points=\"761.089,-163.5278 752.6439,-157.13 755.256,-167.3978 761.089,-163.5278\"/>\n</g>\n<!-- 13 -->\n<g id=\"node14\" class=\"node\">\n<title>13</title>\n<polygon fill=\"#d7ebfa\" stroke=\"#000000\" points=\"926,-157 810,-157 810,-89 926,-89 926,-157\"/>\n<text text-anchor=\"middle\" x=\"868\" y=\"-141.8\" font-family=\"Helvetica,sans-Serif\" font-size=\"14.00\" fill=\"#000000\">d &lt;= 249.0</text>\n<text text-anchor=\"middle\" x=\"868\" y=\"-126.8\" font-family=\"Helvetica,sans-Serif\" font-size=\"14.00\" fill=\"#000000\">samples = 162</text>\n<text text-anchor=\"middle\" x=\"868\" y=\"-111.8\" font-family=\"Helvetica,sans-Serif\" font-size=\"14.00\" fill=\"#000000\">value = [72, 90]</text>\n<text text-anchor=\"middle\" x=\"868\" y=\"-96.8\" font-family=\"Helvetica,sans-Serif\" font-size=\"14.00\" fill=\"#000000\">class = False</text>\n</g>\n<!-- 9&#45;&gt;13 -->\n<g id=\"edge13\" class=\"edge\">\n<title>9&#45;&gt;13</title>\n<path fill=\"none\" stroke=\"#000000\" d=\"M821.5932,-192.9465C827.3714,-184.2373 833.6575,-174.7626 839.6834,-165.6801\"/>\n<polygon fill=\"#000000\" stroke=\"#000000\" points=\"842.744,-167.3978 845.3561,-157.13 836.911,-163.5278 842.744,-167.3978\"/>\n</g>\n<!-- 11 -->\n<g id=\"node12\" class=\"node\">\n<title>11</title>\n<polygon fill=\"#eb9d65\" stroke=\"#000000\" points=\"662,-53 538,-53 538,0 662,0 662,-53\"/>\n<text text-anchor=\"middle\" x=\"600\" y=\"-37.8\" font-family=\"Helvetica,sans-Serif\" font-size=\"14.00\" fill=\"#000000\">samples = 127</text>\n<text text-anchor=\"middle\" x=\"600\" y=\"-22.8\" font-family=\"Helvetica,sans-Serif\" font-size=\"14.00\" fill=\"#000000\">value = [104, 23]</text>\n<text text-anchor=\"middle\" x=\"600\" y=\"-7.8\" font-family=\"Helvetica,sans-Serif\" font-size=\"14.00\" fill=\"#000000\">class = True</text>\n</g>\n<!-- 10&#45;&gt;11 -->\n<g id=\"edge11\" class=\"edge\">\n<title>10&#45;&gt;11</title>\n<path fill=\"none\" stroke=\"#000000\" d=\"M684.1669,-88.9777C671.2143,-79.3629 657.1465,-68.9203 644.2867,-59.3743\"/>\n<polygon fill=\"#000000\" stroke=\"#000000\" points=\"646.1499,-56.3986 636.0342,-53.2485 641.9776,-62.0193 646.1499,-56.3986\"/>\n</g>\n<!-- 12 -->\n<g id=\"node13\" class=\"node\">\n<title>12</title>\n<polygon fill=\"#bddef6\" stroke=\"#000000\" points=\"787.5,-53 680.5,-53 680.5,0 787.5,0 787.5,-53\"/>\n<text text-anchor=\"middle\" x=\"734\" y=\"-37.8\" font-family=\"Helvetica,sans-Serif\" font-size=\"14.00\" fill=\"#000000\">samples = 20</text>\n<text text-anchor=\"middle\" x=\"734\" y=\"-22.8\" font-family=\"Helvetica,sans-Serif\" font-size=\"14.00\" fill=\"#000000\">value = [8, 12]</text>\n<text text-anchor=\"middle\" x=\"734\" y=\"-7.8\" font-family=\"Helvetica,sans-Serif\" font-size=\"14.00\" fill=\"#000000\">class = False</text>\n</g>\n<!-- 10&#45;&gt;12 -->\n<g id=\"edge12\" class=\"edge\">\n<title>10&#45;&gt;12</title>\n<path fill=\"none\" stroke=\"#000000\" d=\"M731.4103,-88.9777C731.7519,-80.7364 732.1187,-71.887 732.4657,-63.5153\"/>\n<polygon fill=\"#000000\" stroke=\"#000000\" points=\"735.974,-63.3849 732.8913,-53.2485 728.98,-63.0949 735.974,-63.3849\"/>\n</g>\n<!-- 14 -->\n<g id=\"node15\" class=\"node\">\n<title>14</title>\n<polygon fill=\"#bedff6\" stroke=\"#000000\" points=\"922,-53 806,-53 806,0 922,0 922,-53\"/>\n<text text-anchor=\"middle\" x=\"864\" y=\"-37.8\" font-family=\"Helvetica,sans-Serif\" font-size=\"14.00\" fill=\"#000000\">samples = 147</text>\n<text text-anchor=\"middle\" x=\"864\" y=\"-22.8\" font-family=\"Helvetica,sans-Serif\" font-size=\"14.00\" fill=\"#000000\">value = [59, 88]</text>\n<text text-anchor=\"middle\" x=\"864\" y=\"-7.8\" font-family=\"Helvetica,sans-Serif\" font-size=\"14.00\" fill=\"#000000\">class = False</text>\n</g>\n<!-- 13&#45;&gt;14 -->\n<g id=\"edge14\" class=\"edge\">\n<title>13&#45;&gt;14</title>\n<path fill=\"none\" stroke=\"#000000\" d=\"M866.5897,-88.9777C866.2481,-80.7364 865.8813,-71.887 865.5343,-63.5153\"/>\n<polygon fill=\"#000000\" stroke=\"#000000\" points=\"869.02,-63.0949 865.1087,-53.2485 862.026,-63.3849 869.02,-63.0949\"/>\n</g>\n<!-- 15 -->\n<g id=\"node16\" class=\"node\">\n<title>15</title>\n<polygon fill=\"#e99457\" stroke=\"#000000\" points=\"1047.5,-53 940.5,-53 940.5,0 1047.5,0 1047.5,-53\"/>\n<text text-anchor=\"middle\" x=\"994\" y=\"-37.8\" font-family=\"Helvetica,sans-Serif\" font-size=\"14.00\" fill=\"#000000\">samples = 15</text>\n<text text-anchor=\"middle\" x=\"994\" y=\"-22.8\" font-family=\"Helvetica,sans-Serif\" font-size=\"14.00\" fill=\"#000000\">value = [13, 2]</text>\n<text text-anchor=\"middle\" x=\"994\" y=\"-7.8\" font-family=\"Helvetica,sans-Serif\" font-size=\"14.00\" fill=\"#000000\">class = True</text>\n</g>\n<!-- 13&#45;&gt;15 -->\n<g id=\"edge15\" class=\"edge\">\n<title>13&#45;&gt;15</title>\n<path fill=\"none\" stroke=\"#000000\" d=\"M912.4229,-88.9777C924.977,-79.3629 938.6119,-68.9203 951.076,-59.3743\"/>\n<polygon fill=\"#000000\" stroke=\"#000000\" points=\"953.2635,-62.1076 959.0745,-53.2485 949.0073,-56.5502 953.2635,-62.1076\"/>\n</g>\n<!-- 17 -->\n<g id=\"node18\" class=\"node\">\n<title>17</title>\n<polygon fill=\"#f7d8c2\" stroke=\"#000000\" points=\"1384,-261 1260,-261 1260,-193 1384,-193 1384,-261\"/>\n<text text-anchor=\"middle\" x=\"1322\" y=\"-245.8\" font-family=\"Helvetica,sans-Serif\" font-size=\"14.00\" fill=\"#000000\">g &lt;= 0.95</text>\n<text text-anchor=\"middle\" x=\"1322\" y=\"-230.8\" font-family=\"Helvetica,sans-Serif\" font-size=\"14.00\" fill=\"#000000\">samples = 210</text>\n<text text-anchor=\"middle\" x=\"1322\" y=\"-215.8\" font-family=\"Helvetica,sans-Serif\" font-size=\"14.00\" fill=\"#000000\">value = [124, 86]</text>\n<text text-anchor=\"middle\" x=\"1322\" y=\"-200.8\" font-family=\"Helvetica,sans-Serif\" font-size=\"14.00\" fill=\"#000000\">class = True</text>\n</g>\n<!-- 16&#45;&gt;17 -->\n<g id=\"edge17\" class=\"edge\">\n<title>16&#45;&gt;17</title>\n<path fill=\"none\" stroke=\"#000000\" d=\"M1322,-296.9465C1322,-288.776 1322,-279.9318 1322,-271.3697\"/>\n<polygon fill=\"#000000\" stroke=\"#000000\" points=\"1325.5001,-271.13 1322,-261.13 1318.5001,-271.13 1325.5001,-271.13\"/>\n</g>\n<!-- 24 -->\n<g id=\"node25\" class=\"node\">\n<title>24</title>\n<polygon fill=\"#99cdf2\" stroke=\"#000000\" points=\"1787,-261 1655,-261 1655,-193 1787,-193 1787,-261\"/>\n<text text-anchor=\"middle\" x=\"1721\" y=\"-245.8\" font-family=\"Helvetica,sans-Serif\" font-size=\"14.00\" fill=\"#000000\">f &lt;= 15.35</text>\n<text text-anchor=\"middle\" x=\"1721\" y=\"-230.8\" font-family=\"Helvetica,sans-Serif\" font-size=\"14.00\" fill=\"#000000\">samples = 1072</text>\n<text text-anchor=\"middle\" x=\"1721\" y=\"-215.8\" font-family=\"Helvetica,sans-Serif\" font-size=\"14.00\" fill=\"#000000\">value = [350, 722]</text>\n<text text-anchor=\"middle\" x=\"1721\" y=\"-200.8\" font-family=\"Helvetica,sans-Serif\" font-size=\"14.00\" fill=\"#000000\">class = False</text>\n</g>\n<!-- 16&#45;&gt;24 -->\n<g id=\"edge24\" class=\"edge\">\n<title>16&#45;&gt;24</title>\n<path fill=\"none\" stroke=\"#000000\" d=\"M1388.3346,-313.7098C1459.0615,-295.2747 1570.8832,-266.1282 1645.08,-246.7887\"/>\n<polygon fill=\"#000000\" stroke=\"#000000\" points=\"1646.0453,-250.1541 1654.8391,-244.2449 1644.2796,-243.3804 1646.0453,-250.1541\"/>\n</g>\n<!-- 18 -->\n<g id=\"node19\" class=\"node\">\n<title>18</title>\n<polygon fill=\"#f0b78e\" stroke=\"#000000\" points=\"1315,-157 1191,-157 1191,-89 1315,-89 1315,-157\"/>\n<text text-anchor=\"middle\" x=\"1253\" y=\"-141.8\" font-family=\"Helvetica,sans-Serif\" font-size=\"14.00\" fill=\"#000000\">age &lt;= 10.5</text>\n<text text-anchor=\"middle\" x=\"1253\" y=\"-126.8\" font-family=\"Helvetica,sans-Serif\" font-size=\"14.00\" fill=\"#000000\">samples = 150</text>\n<text text-anchor=\"middle\" x=\"1253\" y=\"-111.8\" font-family=\"Helvetica,sans-Serif\" font-size=\"14.00\" fill=\"#000000\">value = [105, 45]</text>\n<text text-anchor=\"middle\" x=\"1253\" y=\"-96.8\" font-family=\"Helvetica,sans-Serif\" font-size=\"14.00\" fill=\"#000000\">class = True</text>\n</g>\n<!-- 17&#45;&gt;18 -->\n<g id=\"edge18\" class=\"edge\">\n<title>17&#45;&gt;18</title>\n<path fill=\"none\" stroke=\"#000000\" d=\"M1299.4068,-192.9465C1293.6286,-184.2373 1287.3425,-174.7626 1281.3166,-165.6801\"/>\n<polygon fill=\"#000000\" stroke=\"#000000\" points=\"1284.089,-163.5278 1275.6439,-157.13 1278.256,-167.3978 1284.089,-163.5278\"/>\n</g>\n<!-- 21 -->\n<g id=\"node22\" class=\"node\">\n<title>21</title>\n<polygon fill=\"#95caf1\" stroke=\"#000000\" points=\"1449,-157 1333,-157 1333,-89 1449,-89 1449,-157\"/>\n<text text-anchor=\"middle\" x=\"1391\" y=\"-141.8\" font-family=\"Helvetica,sans-Serif\" font-size=\"14.00\" fill=\"#000000\">AST &lt;= 18.5</text>\n<text text-anchor=\"middle\" x=\"1391\" y=\"-126.8\" font-family=\"Helvetica,sans-Serif\" font-size=\"14.00\" fill=\"#000000\">samples = 60</text>\n<text text-anchor=\"middle\" x=\"1391\" y=\"-111.8\" font-family=\"Helvetica,sans-Serif\" font-size=\"14.00\" fill=\"#000000\">value = [19, 41]</text>\n<text text-anchor=\"middle\" x=\"1391\" y=\"-96.8\" font-family=\"Helvetica,sans-Serif\" font-size=\"14.00\" fill=\"#000000\">class = False</text>\n</g>\n<!-- 17&#45;&gt;21 -->\n<g id=\"edge21\" class=\"edge\">\n<title>17&#45;&gt;21</title>\n<path fill=\"none\" stroke=\"#000000\" d=\"M1344.5932,-192.9465C1350.3714,-184.2373 1356.6575,-174.7626 1362.6834,-165.6801\"/>\n<polygon fill=\"#000000\" stroke=\"#000000\" points=\"1365.744,-167.3978 1368.3561,-157.13 1359.911,-163.5278 1365.744,-167.3978\"/>\n</g>\n<!-- 19 -->\n<g id=\"node20\" class=\"node\">\n<title>19</title>\n<polygon fill=\"#eb9e66\" stroke=\"#000000\" points=\"1182,-53 1066,-53 1066,0 1182,0 1182,-53\"/>\n<text text-anchor=\"middle\" x=\"1124\" y=\"-37.8\" font-family=\"Helvetica,sans-Serif\" font-size=\"14.00\" fill=\"#000000\">samples = 86</text>\n<text text-anchor=\"middle\" x=\"1124\" y=\"-22.8\" font-family=\"Helvetica,sans-Serif\" font-size=\"14.00\" fill=\"#000000\">value = [70, 16]</text>\n<text text-anchor=\"middle\" x=\"1124\" y=\"-7.8\" font-family=\"Helvetica,sans-Serif\" font-size=\"14.00\" fill=\"#000000\">class = True</text>\n</g>\n<!-- 18&#45;&gt;19 -->\n<g id=\"edge19\" class=\"edge\">\n<title>18&#45;&gt;19</title>\n<path fill=\"none\" stroke=\"#000000\" d=\"M1207.5194,-88.9777C1194.6665,-79.3629 1180.7069,-68.9203 1167.946,-59.3743\"/>\n<polygon fill=\"#000000\" stroke=\"#000000\" points=\"1169.861,-56.436 1159.757,-53.2485 1165.668,-62.0412 1169.861,-56.436\"/>\n</g>\n<!-- 20 -->\n<g id=\"node21\" class=\"node\">\n<title>20</title>\n<polygon fill=\"#fbe9dd\" stroke=\"#000000\" points=\"1316,-53 1200,-53 1200,0 1316,0 1316,-53\"/>\n<text text-anchor=\"middle\" x=\"1258\" y=\"-37.8\" font-family=\"Helvetica,sans-Serif\" font-size=\"14.00\" fill=\"#000000\">samples = 64</text>\n<text text-anchor=\"middle\" x=\"1258\" y=\"-22.8\" font-family=\"Helvetica,sans-Serif\" font-size=\"14.00\" fill=\"#000000\">value = [35, 29]</text>\n<text text-anchor=\"middle\" x=\"1258\" y=\"-7.8\" font-family=\"Helvetica,sans-Serif\" font-size=\"14.00\" fill=\"#000000\">class = True</text>\n</g>\n<!-- 18&#45;&gt;20 -->\n<g id=\"edge20\" class=\"edge\">\n<title>18&#45;&gt;20</title>\n<path fill=\"none\" stroke=\"#000000\" d=\"M1254.7628,-88.9777C1255.1946,-80.6449 1255.6585,-71.6903 1256.0966,-63.2364\"/>\n<polygon fill=\"#000000\" stroke=\"#000000\" points=\"1259.5918,-63.4162 1256.6141,-53.2485 1252.6012,-63.0539 1259.5918,-63.4162\"/>\n</g>\n<!-- 22 -->\n<g id=\"node23\" class=\"node\">\n<title>22</title>\n<polygon fill=\"#efb083\" stroke=\"#000000\" points=\"1438,-53 1334,-53 1334,0 1438,0 1438,-53\"/>\n<text text-anchor=\"middle\" x=\"1386\" y=\"-37.8\" font-family=\"Helvetica,sans-Serif\" font-size=\"14.00\" fill=\"#000000\">samples = 11</text>\n<text text-anchor=\"middle\" x=\"1386\" y=\"-22.8\" font-family=\"Helvetica,sans-Serif\" font-size=\"14.00\" fill=\"#000000\">value = [8, 3]</text>\n<text text-anchor=\"middle\" x=\"1386\" y=\"-7.8\" font-family=\"Helvetica,sans-Serif\" font-size=\"14.00\" fill=\"#000000\">class = True</text>\n</g>\n<!-- 21&#45;&gt;22 -->\n<g id=\"edge22\" class=\"edge\">\n<title>21&#45;&gt;22</title>\n<path fill=\"none\" stroke=\"#000000\" d=\"M1389.2372,-88.9777C1388.8054,-80.6449 1388.3415,-71.6903 1387.9034,-63.2364\"/>\n<polygon fill=\"#000000\" stroke=\"#000000\" points=\"1391.3988,-63.0539 1387.3859,-53.2485 1384.4082,-63.4162 1391.3988,-63.0539\"/>\n</g>\n<!-- 23 -->\n<g id=\"node24\" class=\"node\">\n<title>23</title>\n<polygon fill=\"#72b9ed\" stroke=\"#000000\" points=\"1572,-53 1456,-53 1456,0 1572,0 1572,-53\"/>\n<text text-anchor=\"middle\" x=\"1514\" y=\"-37.8\" font-family=\"Helvetica,sans-Serif\" font-size=\"14.00\" fill=\"#000000\">samples = 49</text>\n<text text-anchor=\"middle\" x=\"1514\" y=\"-22.8\" font-family=\"Helvetica,sans-Serif\" font-size=\"14.00\" fill=\"#000000\">value = [11, 38]</text>\n<text text-anchor=\"middle\" x=\"1514\" y=\"-7.8\" font-family=\"Helvetica,sans-Serif\" font-size=\"14.00\" fill=\"#000000\">class = False</text>\n</g>\n<!-- 21&#45;&gt;23 -->\n<g id=\"edge23\" class=\"edge\">\n<title>21&#45;&gt;23</title>\n<path fill=\"none\" stroke=\"#000000\" d=\"M1434.3652,-88.9777C1446.5036,-79.4545 1459.6772,-69.1191 1471.7501,-59.6473\"/>\n<polygon fill=\"#000000\" stroke=\"#000000\" points=\"1474.1989,-62.1748 1479.9061,-53.2485 1469.878,-56.6674 1474.1989,-62.1748\"/>\n</g>\n<!-- 25 -->\n<g id=\"node26\" class=\"node\">\n<title>25</title>\n<polygon fill=\"#b3d9f5\" stroke=\"#000000\" points=\"1787,-157 1655,-157 1655,-89 1787,-89 1787,-157\"/>\n<text text-anchor=\"middle\" x=\"1721\" y=\"-141.8\" font-family=\"Helvetica,sans-Serif\" font-size=\"14.00\" fill=\"#000000\">waist &lt;= 96.05</text>\n<text text-anchor=\"middle\" x=\"1721\" y=\"-126.8\" font-family=\"Helvetica,sans-Serif\" font-size=\"14.00\" fill=\"#000000\">samples = 566</text>\n<text text-anchor=\"middle\" x=\"1721\" y=\"-111.8\" font-family=\"Helvetica,sans-Serif\" font-size=\"14.00\" fill=\"#000000\">value = [216, 350]</text>\n<text text-anchor=\"middle\" x=\"1721\" y=\"-96.8\" font-family=\"Helvetica,sans-Serif\" font-size=\"14.00\" fill=\"#000000\">class = False</text>\n</g>\n<!-- 24&#45;&gt;25 -->\n<g id=\"edge25\" class=\"edge\">\n<title>24&#45;&gt;25</title>\n<path fill=\"none\" stroke=\"#000000\" d=\"M1721,-192.9465C1721,-184.776 1721,-175.9318 1721,-167.3697\"/>\n<polygon fill=\"#000000\" stroke=\"#000000\" points=\"1724.5001,-167.13 1721,-157.13 1717.5001,-167.13 1724.5001,-167.13\"/>\n</g>\n<!-- 28 -->\n<g id=\"node29\" class=\"node\">\n<title>28</title>\n<polygon fill=\"#80c0ee\" stroke=\"#000000\" points=\"2002,-157 1870,-157 1870,-89 2002,-89 2002,-157\"/>\n<text text-anchor=\"middle\" x=\"1936\" y=\"-141.8\" font-family=\"Helvetica,sans-Serif\" font-size=\"14.00\" fill=\"#000000\">b &lt;= 77.5</text>\n<text text-anchor=\"middle\" x=\"1936\" y=\"-126.8\" font-family=\"Helvetica,sans-Serif\" font-size=\"14.00\" fill=\"#000000\">samples = 506</text>\n<text text-anchor=\"middle\" x=\"1936\" y=\"-111.8\" font-family=\"Helvetica,sans-Serif\" font-size=\"14.00\" fill=\"#000000\">value = [134, 372]</text>\n<text text-anchor=\"middle\" x=\"1936\" y=\"-96.8\" font-family=\"Helvetica,sans-Serif\" font-size=\"14.00\" fill=\"#000000\">class = False</text>\n</g>\n<!-- 24&#45;&gt;28 -->\n<g id=\"edge28\" class=\"edge\">\n<title>24&#45;&gt;28</title>\n<path fill=\"none\" stroke=\"#000000\" d=\"M1787.2614,-194.948C1810.5649,-183.6756 1836.9158,-170.9291 1860.8947,-159.33\"/>\n<polygon fill=\"#000000\" stroke=\"#000000\" points=\"1862.4793,-162.4515 1869.9574,-154.9462 1859.4311,-156.15 1862.4793,-162.4515\"/>\n</g>\n<!-- 26 -->\n<g id=\"node27\" class=\"node\">\n<title>26</title>\n<polygon fill=\"#bfe0f7\" stroke=\"#000000\" points=\"1722,-53 1590,-53 1590,0 1722,0 1722,-53\"/>\n<text text-anchor=\"middle\" x=\"1656\" y=\"-37.8\" font-family=\"Helvetica,sans-Serif\" font-size=\"14.00\" fill=\"#000000\">samples = 502</text>\n<text text-anchor=\"middle\" x=\"1656\" y=\"-22.8\" font-family=\"Helvetica,sans-Serif\" font-size=\"14.00\" fill=\"#000000\">value = [203, 299]</text>\n<text text-anchor=\"middle\" x=\"1656\" y=\"-7.8\" font-family=\"Helvetica,sans-Serif\" font-size=\"14.00\" fill=\"#000000\">class = False</text>\n</g>\n<!-- 25&#45;&gt;26 -->\n<g id=\"edge26\" class=\"edge\">\n<title>25&#45;&gt;26</title>\n<path fill=\"none\" stroke=\"#000000\" d=\"M1698.0834,-88.9777C1692.1006,-80.0954 1685.6418,-70.5067 1679.623,-61.5711\"/>\n<polygon fill=\"#000000\" stroke=\"#000000\" points=\"1682.5067,-59.5871 1674.0171,-53.2485 1676.7009,-63.4978 1682.5067,-59.5871\"/>\n</g>\n<!-- 27 -->\n<g id=\"node28\" class=\"node\">\n<title>27</title>\n<polygon fill=\"#6bb6ec\" stroke=\"#000000\" points=\"1856,-53 1740,-53 1740,0 1856,0 1856,-53\"/>\n<text text-anchor=\"middle\" x=\"1798\" y=\"-37.8\" font-family=\"Helvetica,sans-Serif\" font-size=\"14.00\" fill=\"#000000\">samples = 64</text>\n<text text-anchor=\"middle\" x=\"1798\" y=\"-22.8\" font-family=\"Helvetica,sans-Serif\" font-size=\"14.00\" fill=\"#000000\">value = [13, 51]</text>\n<text text-anchor=\"middle\" x=\"1798\" y=\"-7.8\" font-family=\"Helvetica,sans-Serif\" font-size=\"14.00\" fill=\"#000000\">class = False</text>\n</g>\n<!-- 25&#45;&gt;27 -->\n<g id=\"edge27\" class=\"edge\">\n<title>25&#45;&gt;27</title>\n<path fill=\"none\" stroke=\"#000000\" d=\"M1748.1473,-88.9777C1755.3078,-80.0039 1763.0436,-70.3089 1770.2361,-61.295\"/>\n<polygon fill=\"#000000\" stroke=\"#000000\" points=\"1773.1554,-63.2481 1776.6567,-53.2485 1767.6837,-58.8821 1773.1554,-63.2481\"/>\n</g>\n<!-- 29 -->\n<g id=\"node30\" class=\"node\">\n<title>29</title>\n<polygon fill=\"#69b5eb\" stroke=\"#000000\" points=\"1998,-53 1874,-53 1874,0 1998,0 1998,-53\"/>\n<text text-anchor=\"middle\" x=\"1936\" y=\"-37.8\" font-family=\"Helvetica,sans-Serif\" font-size=\"14.00\" fill=\"#000000\">samples = 178</text>\n<text text-anchor=\"middle\" x=\"1936\" y=\"-22.8\" font-family=\"Helvetica,sans-Serif\" font-size=\"14.00\" fill=\"#000000\">value = [35, 143]</text>\n<text text-anchor=\"middle\" x=\"1936\" y=\"-7.8\" font-family=\"Helvetica,sans-Serif\" font-size=\"14.00\" fill=\"#000000\">class = False</text>\n</g>\n<!-- 28&#45;&gt;29 -->\n<g id=\"edge29\" class=\"edge\">\n<title>28&#45;&gt;29</title>\n<path fill=\"none\" stroke=\"#000000\" d=\"M1936,-88.9777C1936,-80.7364 1936,-71.887 1936,-63.5153\"/>\n<polygon fill=\"#000000\" stroke=\"#000000\" points=\"1939.5001,-63.2484 1936,-53.2485 1932.5001,-63.2485 1939.5001,-63.2484\"/>\n</g>\n<!-- 30 -->\n<g id=\"node31\" class=\"node\">\n<title>30</title>\n<polygon fill=\"#8fc7f0\" stroke=\"#000000\" points=\"2140,-53 2016,-53 2016,0 2140,0 2140,-53\"/>\n<text text-anchor=\"middle\" x=\"2078\" y=\"-37.8\" font-family=\"Helvetica,sans-Serif\" font-size=\"14.00\" fill=\"#000000\">samples = 328</text>\n<text text-anchor=\"middle\" x=\"2078\" y=\"-22.8\" font-family=\"Helvetica,sans-Serif\" font-size=\"14.00\" fill=\"#000000\">value = [99, 229]</text>\n<text text-anchor=\"middle\" x=\"2078\" y=\"-7.8\" font-family=\"Helvetica,sans-Serif\" font-size=\"14.00\" fill=\"#000000\">class = False</text>\n</g>\n<!-- 28&#45;&gt;30 -->\n<g id=\"edge30\" class=\"edge\">\n<title>28&#45;&gt;30</title>\n<path fill=\"none\" stroke=\"#000000\" d=\"M1986.0639,-88.9777C2000.3469,-79.2713 2015.8713,-68.7213 2030.0263,-59.1018\"/>\n<polygon fill=\"#000000\" stroke=\"#000000\" points=\"2032.3359,-61.764 2038.6395,-53.2485 2028.4014,-55.9744 2032.3359,-61.764\"/>\n</g>\n</g>\n</svg>\n"
          },
          "metadata": {}
        }
      ]
    },
    {
      "cell_type": "markdown",
      "source": [
        "변수중요도"
      ],
      "metadata": {
        "id": "xWpq0L6h6lWI"
      }
    },
    {
      "cell_type": "code",
      "source": [
        "result = tree.feature_importances_\n",
        "print(\"변수의 중요도:\\n\", result)"
      ],
      "metadata": {
        "colab": {
          "base_uri": "https://localhost:8080/"
        },
        "id": "5oYAHgeE6mvc",
        "outputId": "b1ecb986-1949-4ec7-c9bb-b48fceed56a5"
      },
      "execution_count": 16,
      "outputs": [
        {
          "output_type": "stream",
          "name": "stdout",
          "text": [
            "변수의 중요도:\n",
            " [0.01072241 0.72133947 0.         0.00941887 0.         0.\n",
            " 0.         0.         0.         0.00523122 0.         0.01207254\n",
            " 0.         0.         0.         0.10699424 0.05494987 0.00930307\n",
            " 0.         0.06996831]\n"
          ]
        }
      ]
    },
    {
      "cell_type": "code",
      "source": [
        "import numpy as np\n",
        "\n",
        "def plot_feature_importances_dfhealth(model):\n",
        "    plt.rcParams[\"figure.figsize\"] = (9,6)\n",
        "    n_features = len(health.columns[1:]) \n",
        "    plt.barh(np.arange(n_features), model.feature_importances_, align='center') \n",
        "    plt.yticks(np.arange(n_features), health.columns[1:])\n",
        "    plt.xlabel(\"feature importance\")\n",
        "    plt.ylabel(\"feature\")\n",
        "    plt.ylim(-1, n_features) \n",
        "\n",
        "plot_feature_importances_dfhealth(tree)"
      ],
      "metadata": {
        "colab": {
          "base_uri": "https://localhost:8080/",
          "height": 407
        },
        "id": "BPmRVdtp6phC",
        "outputId": "4ee6d8f5-7fd8-47c2-f257-e5917976f8a3"
      },
      "execution_count": 17,
      "outputs": [
        {
          "output_type": "stream",
          "name": "stderr",
          "text": [
            "WARNING:matplotlib.font_manager:findfont: Font family ['NGULIM'] not found. Falling back to DejaVu Sans.\n"
          ]
        },
        {
          "output_type": "display_data",
          "data": {
            "text/plain": [
              "<Figure size 648x432 with 1 Axes>"
            ],
            "image/png": "[encoded data removed]"
          },
          "metadata": {
            "needs_background": "light"
          }
        }
      ]
    },
    {
      "cell_type": "markdown",
      "source": [
        "### 인사이트\n",
        "키, 혈청크레아티닌,혈색소 순서로 영향을 끼치는 것으로 보여진다. 또한 키는 크게 중요하지 않아 보이기에 혈색소와 혈청크레아틴이 중요한 변수로 보여진다. 이러한 결과와 더불어 다른 변수들이 크게 중요하지 않게 보여진다는 점과 정확도가 지나치게 높게 나온다는 점을 들어서 다른 모델을 확인해볼 필요가 있다고 보여진다."
      ],
      "metadata": {
        "id": "IZbVT3UibIVS"
      }
    },
    {
      "cell_type": "markdown",
      "source": [
        "##랜덤 포레스트"
      ],
      "metadata": {
        "id": "2QyiXVrn6zEy"
      }
    },
    {
      "cell_type": "code",
      "source": [
        "from sklearn.ensemble import RandomForestClassifier\n",
        "\n",
        "forest = RandomForestClassifier(n_estimators=5, random_state=2)\n",
        "forest.fit(X_train.iloc[:, 0:2], y_train)\n",
        "\n",
        "\n",
        "fig, axes = plt.subplots(2, 3, figsize=(20, 10))\n",
        "for i, (ax, tree) in enumerate(zip(axes.ravel(), forest.estimators_)):\n",
        "    ax.set_title(\"Tree {}\".format(i))\n",
        "    mglearn.plots.plot_tree_partition(X.iloc[:, 0:2].values, y, tree, ax=ax)\n",
        "    \n",
        "mglearn.plots.plot_2d_separator(forest, X.iloc[:, 0:2].values, fill=True, ax=axes[-1, -1], alpha=.4)\n",
        "axes[-1, -1].set_title(\"Random forest\")\n",
        "mglearn.discrete_scatter(X.iloc[:, 0], X.iloc[:, 1], y)\n",
        "plt.show()"
      ],
      "metadata": {
        "colab": {
          "base_uri": "https://localhost:8080/",
          "height": 530
        },
        "id": "D8ePF_EB60Aq",
        "outputId": "9c648c76-7fc8-4c5e-9a16-47423df3a2de"
      },
      "execution_count": 18,
      "outputs": [
        {
          "output_type": "stream",
          "name": "stderr",
          "text": [
            "/usr/local/lib/python3.7/dist-packages/sklearn/base.py:451: UserWarning: X does not have valid feature names, but RandomForestClassifier was fitted with feature names\n",
            "  \"X does not have valid feature names, but\"\n",
            "WARNING:matplotlib.font_manager:findfont: Font family ['NGULIM'] not found. Falling back to DejaVu Sans.\n"
          ]
        },
        {
          "output_type": "display_data",
          "data": {
            "text/plain": [
              "<Figure size 1440x720 with 6 Axes>"
            ],
            "image/png": "[encoded data removed]"
          },
          "metadata": {}
        }
      ]
    },
    {
      "cell_type": "code",
      "source": [
        "forest = RandomForestClassifier(n_estimators=100, random_state=0)\n",
        "forest.fit(X_train, y_train)\n",
        "y_pred = forest.predict(X_test)\n",
        "fpr_rf, tpr_rf, cutoff_rf = metrics.roc_curve(y_test, y_pred)\n",
        "\n",
        "print(\"학습용 데이터 세트 정확도: {:.3f}\".format(forest.score(X_train, y_train)))\n",
        "print(\"시험용 데이터 세트 정확도: {:.3f}\".format(forest.score(X_test, y_test)))"
      ],
      "metadata": {
        "colab": {
          "base_uri": "https://localhost:8080/"
        },
        "id": "eoIYEh5x64HI",
        "outputId": "d8df2500-6a97-4023-bc78-24d780c0d52a"
      },
      "execution_count": 19,
      "outputs": [
        {
          "output_type": "stream",
          "name": "stdout",
          "text": [
            "학습용 데이터 세트 정확도: 1.000\n",
            "시험용 데이터 세트 정확도: 0.807\n"
          ]
        }
      ]
    },
    {
      "cell_type": "code",
      "source": [
        "plot_feature_importances_dfhealth(forest)"
      ],
      "metadata": {
        "colab": {
          "base_uri": "https://localhost:8080/",
          "height": 388
        },
        "id": "zv2nnT0767WA",
        "outputId": "715d94d0-59d1-47dc-c070-d83ff90092ef"
      },
      "execution_count": 20,
      "outputs": [
        {
          "output_type": "display_data",
          "data": {
            "text/plain": [
              "<Figure size 648x432 with 1 Axes>"
            ],
            "image/png": "[encoded data removed]"
          },
          "metadata": {
            "needs_background": "light"
          }
        }
      ]
    },
    {
      "cell_type": "code",
      "source": [
        "from sklearn.model_selection import cross_val_score\n",
        "\n",
        "# 교차 검증을 10번 수행하여 10번의 교차 검증 평균 정확도를 비교 (10-fold cross validation)\n",
        "# default cv=5\n",
        "\n",
        "dt_scores = cross_val_score(tree, X_train, y_train, cv=10, scoring='accuracy')  \n",
        "rf_scores = cross_val_score(forest, X_train, y_train, cv=10, scoring='accuracy')\n",
        "\n",
        "print(\"Accuracy\")\n",
        "print(\"Decision tree: \", dt_scores) \n",
        "print(\"Random forest: \", rf_scores) \n",
        "\n",
        "print(\"Accuracy mean\")\n",
        "print(\"Decision tree :{:.3f}\".format(dt_scores.mean())) \n",
        "print(\"Random forest :{:.3f}\".format(rf_scores.mean()))"
      ],
      "metadata": {
        "colab": {
          "base_uri": "https://localhost:8080/"
        },
        "id": "an3fmiPtb7Ma",
        "outputId": "ee37d4df-0870-47d3-c123-b8323d43c1af"
      },
      "execution_count": 31,
      "outputs": [
        {
          "output_type": "stream",
          "name": "stdout",
          "text": [
            "Accuracy\n",
            "Decision tree:  [0.67558528 0.70234114 0.70134228 0.67114094 0.68456376 0.66442953\n",
            " 0.68120805 0.70469799 0.72818792 0.73154362]\n",
            "Random forest:  [0.74247492 0.85953177 0.74496644 0.72483221 0.77181208 0.74496644\n",
            " 0.74496644 0.75503356 0.79194631 0.81879195]\n",
            "Accuracy mean\n",
            "Decision tree :0.695\n",
            "Random forest :0.770\n"
          ]
        }
      ]
    },
    {
      "cell_type": "code",
      "source": [
        "cv_list = [    \n",
        "            ['decision_tree',dt_scores],\n",
        "            ['random_forest',rf_scores],\n",
        "          ]\n",
        "df = pd.DataFrame.from_dict(dict(cv_list))\n",
        "df.plot()"
      ],
      "metadata": {
        "colab": {
          "base_uri": "https://localhost:8080/",
          "height": 393
        },
        "id": "xuHLUfRsb_or",
        "outputId": "6e88919d-46ca-4d6d-ef75-259ff5694f1c"
      },
      "execution_count": 32,
      "outputs": [
        {
          "output_type": "execute_result",
          "data": {
            "text/plain": [
              "<matplotlib.axes._subplots.AxesSubplot at 0x7f9c25881fd0>"
            ]
          },
          "metadata": {},
          "execution_count": 32
        },
        {
          "output_type": "display_data",
          "data": {
            "text/plain": [
              "<Figure size 648x432 with 1 Axes>"
            ],
            "image/png": "[encoded data removed]"
          },
          "metadata": {
            "needs_background": "light"
          }
        }
      ]
    },
    {
      "cell_type": "markdown",
      "source": [
        "###인사이트\n",
        "랜덤포레스트 모델이 의사결정나무보다 정확도가 눈에 띄게 높은 것으로 보여진다. 또한 변수의 중요도도 랜덤 포레스트 모델에는 다양한 변수가 영향을 끼치는 것으로 보여진다.\n",
        "\n",
        "감마지티피,혈청크레아티닌,혈색소가 중요한 영향을 끼치는 것으로 보여지고 의사결정나무에서와 달리 감마지티피가 혈색소보다 영향을 더욱 끼치는 것으로 보여진다.\n",
        "\n",
        "또한 키와 더불어 몸무게가 중요한 변수인 것으로 볼 때, 일반적으로 키나 몸무게가 더욱 높은 수치를 보이는 남성이 흡연 경험이 더욱 많은 것으로 볼 수도 있다."
      ],
      "metadata": {
        "id": "hKjxoNSZbsYF"
      }
    },
    {
      "cell_type": "markdown",
      "source": [
        "##그래디언트부스팅"
      ],
      "metadata": {
        "id": "4c7IijIu7quZ"
      }
    },
    {
      "cell_type": "code",
      "source": [
        "from sklearn.ensemble import GradientBoostingClassifier\n",
        "\n",
        "gbrt = GradientBoostingClassifier(random_state=0)\n",
        "gbrt.fit(X_train, y_train)\n",
        "\n",
        "y_pred = gbrt. predict(X_test)\n",
        "fpr_gbrt, tpr_gbrt, cutoff_gbrt = metrics.roc_curve(y_test, y_pred)"
      ],
      "metadata": {
        "id": "MaTFRsy87rW7"
      },
      "execution_count": 21,
      "outputs": []
    },
    {
      "cell_type": "code",
      "source": [
        "print(\"학습용 데이터 세트 정확도: {:.3f}\".format(gbrt.score(X_train, y_train)))\n",
        "print(\"시험용 데이터 세트 정확도: {:.3f}\".format(gbrt.score(X_test, y_test)))"
      ],
      "metadata": {
        "colab": {
          "base_uri": "https://localhost:8080/"
        },
        "id": "QwBRYl4w7yID",
        "outputId": "f45766ed-d753-4bfe-a2ad-33afd7aaddac"
      },
      "execution_count": 22,
      "outputs": [
        {
          "output_type": "stream",
          "name": "stdout",
          "text": [
            "학습용 데이터 세트 정확도: 0.833\n",
            "시험용 데이터 세트 정확도: 0.797\n"
          ]
        }
      ]
    },
    {
      "cell_type": "code",
      "source": [
        "plot_feature_importances_dfhealth(gbrt)"
      ],
      "metadata": {
        "colab": {
          "base_uri": "https://localhost:8080/",
          "height": 388
        },
        "id": "Sd1OzVzS70vu",
        "outputId": "90467e8a-a44c-43d9-9ccb-6b6228eb9a9f"
      },
      "execution_count": 23,
      "outputs": [
        {
          "output_type": "display_data",
          "data": {
            "text/plain": [
              "<Figure size 648x432 with 1 Axes>"
            ],
            "image/png": "[encoded data removed]"
          },
          "metadata": {
            "needs_background": "light"
          }
        }
      ]
    },
    {
      "cell_type": "code",
      "source": [
        "gbrt = GradientBoostingClassifier(random_state=0, max_depth=2)\n",
        "gbrt.fit(X_train, y_train)\n",
        "\n",
        "print(\"학습 데이터 세트 정확도: {:.3f}\".format(gbrt.score(X_train, y_train)))\n",
        "print(\"시험용 데이터 세트 정확도: {:.3f}\".format(gbrt.score(X_test, y_test)))"
      ],
      "metadata": {
        "colab": {
          "base_uri": "https://localhost:8080/"
        },
        "id": "AkIqmm6n743c",
        "outputId": "efd7d492-c29c-4b4e-af0e-9814c9120c3e"
      },
      "execution_count": 24,
      "outputs": [
        {
          "output_type": "stream",
          "name": "stdout",
          "text": [
            "학습 데이터 세트 정확도: 0.797\n",
            "시험용 데이터 세트 정확도: 0.802\n"
          ]
        }
      ]
    },
    {
      "cell_type": "code",
      "source": [
        "gbrt = GradientBoostingClassifier(random_state=0, learning_rate=0.01)\n",
        "gbrt.fit(X_train, y_train)\n",
        "\n",
        "print(\"학습 데이터 세트 정확도: {:.3f}\".format(gbrt.score(X_train, y_train)))\n",
        "print(\"시험용 데이터 세트 정확도: {:.3f}\".format(gbrt.score(X_test, y_test)))"
      ],
      "metadata": {
        "colab": {
          "base_uri": "https://localhost:8080/"
        },
        "id": "kIhdXK0876Wc",
        "outputId": "63fe379d-fc0c-4027-c367-cb36bc0af4a2"
      },
      "execution_count": 25,
      "outputs": [
        {
          "output_type": "stream",
          "name": "stdout",
          "text": [
            "학습 데이터 세트 정확도: 0.781\n",
            "시험용 데이터 세트 정확도: 0.786\n"
          ]
        }
      ]
    },
    {
      "cell_type": "markdown",
      "source": [
        "## 인사이트\n",
        "그래디언트부스팅 모델 또한 감마지티피,혈청크레아티닌,혈색소가 중요한 영향을 끼치는 것으로 보여진다.\n",
        "\n",
        "간기능을 나타내는 감마지티피, 혈중의 산소운반체를 나타내는 혈색소, 신기능장애와 관련되는 혈청크레아티닌이 지속적으로 흡연상태와 관련이 높은 변수로 측정되는 것을 볼때, 다음과 같은 요소들이 흡연을 통해 영향을 주고받는 것으로 판단할 수 있다. "
      ],
      "metadata": {
        "id": "oBE8tUOvdclA"
      }
    },
    {
      "cell_type": "markdown",
      "source": [
        "#분류모델평가"
      ],
      "metadata": {
        "id": "lterDS-h79fs"
      }
    },
    {
      "cell_type": "markdown",
      "source": [
        "##그리드서치"
      ],
      "metadata": {
        "id": "j74XIx4v8AnA"
      }
    },
    {
      "cell_type": "code",
      "source": [
        "from sklearn.model_selection import GridSearchCV\n",
        "\n",
        "parameters = {'max_depth':[1,2,3], 'learning_rate':[0.1,0.08, 0.06, 0.04, 0.02]}"
      ],
      "metadata": {
        "id": "D804xtA38Vnt"
      },
      "execution_count": 26,
      "outputs": []
    },
    {
      "cell_type": "code",
      "source": [
        "init_gbrt = GradientBoostingClassifier(random_state=0)\n",
        "grid_gbrt = GridSearchCV(init_gbrt, param_grid=parameters, cv=3, refit=True)\n",
        "print(grid_gbrt)\n",
        "grid_gbrt.fit(X_train, y_train)\n",
        "\n",
        "scores_df = pd.DataFrame(grid_gbrt.cv_results_)\n",
        "scores_df[['params', 'mean_test_score', 'rank_test_score', 'split0_test_score', 'split1_test_score', 'split2_test_score']]"
      ],
      "metadata": {
        "colab": {
          "base_uri": "https://localhost:8080/",
          "height": 1000
        },
        "id": "cXFg0MuE8X7T",
        "outputId": "1565fd8a-cf24-45eb-fd7a-48567207f774"
      },
      "execution_count": 27,
      "outputs": [
        {
          "output_type": "stream",
          "name": "stdout",
          "text": [
            "GridSearchCV(cv=3, estimator=GradientBoostingClassifier(random_state=0),\n",
            "             param_grid={'learning_rate': [0.1, 0.08, 0.06, 0.04, 0.02],\n",
            "                         'max_depth': [1, 2, 3]})\n"
          ]
        },
        {
          "output_type": "execute_result",
          "data": {
            "text/plain": [
              "                                     params  mean_test_score  rank_test_score  \\\n",
              "0    {'learning_rate': 0.1, 'max_depth': 1}         0.766600               12   \n",
              "1    {'learning_rate': 0.1, 'max_depth': 2}         0.773307                6   \n",
              "2    {'learning_rate': 0.1, 'max_depth': 3}         0.773307                7   \n",
              "3   {'learning_rate': 0.08, 'max_depth': 1}         0.767270               10   \n",
              "4   {'learning_rate': 0.08, 'max_depth': 2}         0.774983                4   \n",
              "5   {'learning_rate': 0.08, 'max_depth': 3}         0.773307                7   \n",
              "6   {'learning_rate': 0.06, 'max_depth': 1}         0.766935               11   \n",
              "7   {'learning_rate': 0.06, 'max_depth': 2}         0.775319                2   \n",
              "8   {'learning_rate': 0.06, 'max_depth': 3}         0.771965                9   \n",
              "9   {'learning_rate': 0.04, 'max_depth': 1}         0.764252               14   \n",
              "10  {'learning_rate': 0.04, 'max_depth': 2}         0.774983                3   \n",
              "11  {'learning_rate': 0.04, 'max_depth': 3}         0.776325                1   \n",
              "12  {'learning_rate': 0.02, 'max_depth': 1}         0.752515               15   \n",
              "13  {'learning_rate': 0.02, 'max_depth': 2}         0.766600               13   \n",
              "14  {'learning_rate': 0.02, 'max_depth': 3}         0.774983                4   \n",
              "\n",
              "    split0_test_score  split1_test_score  split2_test_score  \n",
              "0            0.761569           0.760563           0.777666  \n",
              "1            0.768612           0.769618           0.781690  \n",
              "2            0.778672           0.761569           0.779678  \n",
              "3            0.764588           0.757545           0.779678  \n",
              "4            0.767606           0.769618           0.787726  \n",
              "5            0.773642           0.769618           0.776660  \n",
              "6            0.765594           0.759557           0.775654  \n",
              "7            0.766600           0.771630           0.787726  \n",
              "8            0.766600           0.767606           0.781690  \n",
              "9            0.757545           0.759557           0.775654  \n",
              "10           0.768612           0.769618           0.786720  \n",
              "11           0.770624           0.771630           0.786720  \n",
              "12           0.749497           0.738431           0.769618  \n",
              "13           0.758551           0.759557           0.781690  \n",
              "14           0.774648           0.767606           0.782696  "
            ],
            "text/html": [
              "\n",
              "  <div id=\"df-e38df144-8bf3-4c74-8af6-83767174dc5c\">\n",
              "    <div class=\"colab-df-container\">\n",
              "      <div>\n",
              "<style scoped>\n",
              "    .dataframe tbody tr th:only-of-type {\n",
              "        vertical-align: middle;\n",
              "    }\n",
              "\n",
              "    .dataframe tbody tr th {\n",
              "        vertical-align: top;\n",
              "    }\n",
              "\n",
              "    .dataframe thead th {\n",
              "        text-align: right;\n",
              "    }\n",
              "</style>\n",
              "<table border=\"1\" class=\"dataframe\">\n",
              "  <thead>\n",
              "    <tr style=\"text-align: right;\">\n",
              "      <th></th>\n",
              "      <th>params</th>\n",
              "      <th>mean_test_score</th>\n",
              "      <th>rank_test_score</th>\n",
              "      <th>split0_test_score</th>\n",
              "      <th>split1_test_score</th>\n",
              "      <th>split2_test_score</th>\n",
              "    </tr>\n",
              "  </thead>\n",
              "  <tbody>\n",
              "    <tr>\n",
              "      <th>0</th>\n",
              "      <td>{'learning_rate': 0.1, 'max_depth': 1}</td>\n",
              "      <td>0.766600</td>\n",
              "      <td>12</td>\n",
              "      <td>0.761569</td>\n",
              "      <td>0.760563</td>\n",
              "      <td>0.777666</td>\n",
              "    </tr>\n",
              "    <tr>\n",
              "      <th>1</th>\n",
              "      <td>{'learning_rate': 0.1, 'max_depth': 2}</td>\n",
              "      <td>0.773307</td>\n",
              "      <td>6</td>\n",
              "      <td>0.768612</td>\n",
              "      <td>0.769618</td>\n",
              "      <td>0.781690</td>\n",
              "    </tr>\n",
              "    <tr>\n",
              "      <th>2</th>\n",
              "      <td>{'learning_rate': 0.1, 'max_depth': 3}</td>\n",
              "      <td>0.773307</td>\n",
              "      <td>7</td>\n",
              "      <td>0.778672</td>\n",
              "      <td>0.761569</td>\n",
              "      <td>0.779678</td>\n",
              "    </tr>\n",
              "    <tr>\n",
              "      <th>3</th>\n",
              "      <td>{'learning_rate': 0.08, 'max_depth': 1}</td>\n",
              "      <td>0.767270</td>\n",
              "      <td>10</td>\n",
              "      <td>0.764588</td>\n",
              "      <td>0.757545</td>\n",
              "      <td>0.779678</td>\n",
              "    </tr>\n",
              "    <tr>\n",
              "      <th>4</th>\n",
              "      <td>{'learning_rate': 0.08, 'max_depth': 2}</td>\n",
              "      <td>0.774983</td>\n",
              "      <td>4</td>\n",
              "      <td>0.767606</td>\n",
              "      <td>0.769618</td>\n",
              "      <td>0.787726</td>\n",
              "    </tr>\n",
              "    <tr>\n",
              "      <th>5</th>\n",
              "      <td>{'learning_rate': 0.08, 'max_depth': 3}</td>\n",
              "      <td>0.773307</td>\n",
              "      <td>7</td>\n",
              "      <td>0.773642</td>\n",
              "      <td>0.769618</td>\n",
              "      <td>0.776660</td>\n",
              "    </tr>\n",
              "    <tr>\n",
              "      <th>6</th>\n",
              "      <td>{'learning_rate': 0.06, 'max_depth': 1}</td>\n",
              "      <td>0.766935</td>\n",
              "      <td>11</td>\n",
              "      <td>0.765594</td>\n",
              "      <td>0.759557</td>\n",
              "      <td>0.775654</td>\n",
              "    </tr>\n",
              "    <tr>\n",
              "      <th>7</th>\n",
              "      <td>{'learning_rate': 0.06, 'max_depth': 2}</td>\n",
              "      <td>0.775319</td>\n",
              "      <td>2</td>\n",
              "      <td>0.766600</td>\n",
              "      <td>0.771630</td>\n",
              "      <td>0.787726</td>\n",
              "    </tr>\n",
              "    <tr>\n",
              "      <th>8</th>\n",
              "      <td>{'learning_rate': 0.06, 'max_depth': 3}</td>\n",
              "      <td>0.771965</td>\n",
              "      <td>9</td>\n",
              "      <td>0.766600</td>\n",
              "      <td>0.767606</td>\n",
              "      <td>0.781690</td>\n",
              "    </tr>\n",
              "    <tr>\n",
              "      <th>9</th>\n",
              "      <td>{'learning_rate': 0.04, 'max_depth': 1}</td>\n",
              "      <td>0.764252</td>\n",
              "      <td>14</td>\n",
              "      <td>0.757545</td>\n",
              "      <td>0.759557</td>\n",
              "      <td>0.775654</td>\n",
              "    </tr>\n",
              "    <tr>\n",
              "      <th>10</th>\n",
              "      <td>{'learning_rate': 0.04, 'max_depth': 2}</td>\n",
              "      <td>0.774983</td>\n",
              "      <td>3</td>\n",
              "      <td>0.768612</td>\n",
              "      <td>0.769618</td>\n",
              "      <td>0.786720</td>\n",
              "    </tr>\n",
              "    <tr>\n",
              "      <th>11</th>\n",
              "      <td>{'learning_rate': 0.04, 'max_depth': 3}</td>\n",
              "      <td>0.776325</td>\n",
              "      <td>1</td>\n",
              "      <td>0.770624</td>\n",
              "      <td>0.771630</td>\n",
              "      <td>0.786720</td>\n",
              "    </tr>\n",
              "    <tr>\n",
              "      <th>12</th>\n",
              "      <td>{'learning_rate': 0.02, 'max_depth': 1}</td>\n",
              "      <td>0.752515</td>\n",
              "      <td>15</td>\n",
              "      <td>0.749497</td>\n",
              "      <td>0.738431</td>\n",
              "      <td>0.769618</td>\n",
              "    </tr>\n",
              "    <tr>\n",
              "      <th>13</th>\n",
              "      <td>{'learning_rate': 0.02, 'max_depth': 2}</td>\n",
              "      <td>0.766600</td>\n",
              "      <td>13</td>\n",
              "      <td>0.758551</td>\n",
              "      <td>0.759557</td>\n",
              "      <td>0.781690</td>\n",
              "    </tr>\n",
              "    <tr>\n",
              "      <th>14</th>\n",
              "      <td>{'learning_rate': 0.02, 'max_depth': 3}</td>\n",
              "      <td>0.774983</td>\n",
              "      <td>4</td>\n",
              "      <td>0.774648</td>\n",
              "      <td>0.767606</td>\n",
              "      <td>0.782696</td>\n",
              "    </tr>\n",
              "  </tbody>\n",
              "</table>\n",
              "</div>\n",
              "      <button class=\"colab-df-convert\" onclick=\"convertToInteractive('df-e38df144-8bf3-4c74-8af6-83767174dc5c')\"\n",
              "              title=\"Convert this dataframe to an interactive table.\"\n",
              "              style=\"display:none;\">\n",
              "        \n",
              "  <svg xmlns=\"http://www.w3.org/2000/svg\" height=\"24px\"viewBox=\"0 0 24 24\"\n",
              "       width=\"24px\">\n",
              "    <path d=\"M0 0h24v24H0V0z\" fill=\"none\"/>\n",
              "    <path d=\"M18.56 5.44l.94 2.06.94-2.06 2.06-.94-2.06-.94-.94-2.06-.94 2.06-2.06.94zm-11 1L8.5 8.5l.94-2.06 2.06-.94-2.06-.94L8.5 2.5l-.94 2.06-2.06.94zm10 10l.94 2.06.94-2.06 2.06-.94-2.06-.94-.94-2.06-.94 2.06-2.06.94z\"/><path d=\"M17.41 7.96l-1.37-1.37c-.4-.4-.92-.59-1.43-.59-.52 0-1.04.2-1.43.59L10.3 9.45l-7.72 7.72c-.78.78-.78 2.05 0 2.83L4 21.41c.39.39.9.59 1.41.59.51 0 1.02-.2 1.41-.59l7.78-7.78 2.81-2.81c.8-.78.8-2.07 0-2.86zM5.41 20L4 18.59l7.72-7.72 1.47 1.35L5.41 20z\"/>\n",
              "  </svg>\n",
              "      </button>\n",
              "      \n",
              "  <style>\n",
              "    .colab-df-container {\n",
              "      display:flex;\n",
              "      flex-wrap:wrap;\n",
              "      gap: 12px;\n",
              "    }\n",
              "\n",
              "    .colab-df-convert {\n",
              "      background-color: #E8F0FE;\n",
              "      border: none;\n",
              "      border-radius: 50%;\n",
              "      cursor: pointer;\n",
              "      display: none;\n",
              "      fill: #1967D2;\n",
              "      height: 32px;\n",
              "      padding: 0 0 0 0;\n",
              "      width: 32px;\n",
              "    }\n",
              "\n",
              "    .colab-df-convert:hover {\n",
              "      background-color: #E2EBFA;\n",
              "      box-shadow: 0px 1px 2px rgba(60, 64, 67, 0.3), 0px 1px 3px 1px rgba(60, 64, 67, 0.15);\n",
              "      fill: #174EA6;\n",
              "    }\n",
              "\n",
              "    [theme=dark] .colab-df-convert {\n",
              "      background-color: #3B4455;\n",
              "      fill: #D2E3FC;\n",
              "    }\n",
              "\n",
              "    [theme=dark] .colab-df-convert:hover {\n",
              "      background-color: #434B5C;\n",
              "      box-shadow: 0px 1px 3px 1px rgba(0, 0, 0, 0.15);\n",
              "      filter: drop-shadow(0px 1px 2px rgba(0, 0, 0, 0.3));\n",
              "      fill: #FFFFFF;\n",
              "    }\n",
              "  </style>\n",
              "\n",
              "      <script>\n",
              "        const buttonEl =\n",
              "          document.querySelector('#df-e38df144-8bf3-4c74-8af6-83767174dc5c button.colab-df-convert');\n",
              "        buttonEl.style.display =\n",
              "          google.colab.kernel.accessAllowed ? 'block' : 'none';\n",
              "\n",
              "        async function convertToInteractive(key) {\n",
              "          const element = document.querySelector('#df-e38df144-8bf3-4c74-8af6-83767174dc5c');\n",
              "          const dataTable =\n",
              "            await google.colab.kernel.invokeFunction('convertToInteractive',\n",
              "                                                     [key], {});\n",
              "          if (!dataTable) return;\n",
              "\n",
              "          const docLinkHtml = 'Like what you see? Visit the ' +\n",
              "            '<a target=\"_blank\" href=https://colab.research.google.com/notebooks/data_table.ipynb>data table notebook</a>'\n",
              "            + ' to learn more about interactive tables.';\n",
              "          element.innerHTML = '';\n",
              "          dataTable['output_type'] = 'display_data';\n",
              "          await google.colab.output.renderOutput(dataTable, element);\n",
              "          const docLink = document.createElement('div');\n",
              "          docLink.innerHTML = docLinkHtml;\n",
              "          element.appendChild(docLink);\n",
              "        }\n",
              "      </script>\n",
              "    </div>\n",
              "  </div>\n",
              "  "
            ]
          },
          "metadata": {},
          "execution_count": 27
        }
      ]
    },
    {
      "cell_type": "code",
      "source": [
        "print('GridSearchCV 최적 파라미터:', grid_gbrt.best_params_)\n",
        "print('GridSearchCV 최고 정확도: {0:.4f}'.format(grid_gbrt.best_score_))"
      ],
      "metadata": {
        "colab": {
          "base_uri": "https://localhost:8080/"
        },
        "id": "r8eJhpYm8kD0",
        "outputId": "aeaa1e6a-744e-4e2f-ad1e-f573056d4a2d"
      },
      "execution_count": 28,
      "outputs": [
        {
          "output_type": "stream",
          "name": "stdout",
          "text": [
            "GridSearchCV 최적 파라미터: {'learning_rate': 0.04, 'max_depth': 3}\n",
            "GridSearchCV 최고 정확도: 0.7763\n"
          ]
        }
      ]
    },
    {
      "cell_type": "code",
      "source": [
        "print(\"시험용 데이터 세트 정확도: {:.3f}\".format(grid_gbrt.score(X_test, y_test)))"
      ],
      "metadata": {
        "colab": {
          "base_uri": "https://localhost:8080/"
        },
        "id": "2bvm2zZQ8l85",
        "outputId": "b1a5b601-89fb-41d3-ad71-ea8fb53d7753"
      },
      "execution_count": 29,
      "outputs": [
        {
          "output_type": "stream",
          "name": "stdout",
          "text": [
            "시험용 데이터 세트 정확도: 0.803\n"
          ]
        }
      ]
    },
    {
      "cell_type": "markdown",
      "source": [
        "###인사이트\n",
        "\n",
        "그래디언트 부스팅에서\n",
        "GridSearchCV 최적 파라미터: {'learning_rate': 0.04, 'max_depth': 3}\n",
        "GridSearchCV 최고 정확도: 0.7763임을 확인할 수 있었음."
      ],
      "metadata": {
        "id": "NYCNRIRBfoG3"
      }
    },
    {
      "cell_type": "markdown",
      "source": [
        "## ROC 곡선"
      ],
      "metadata": {
        "id": "rRn-9nqo8pc8"
      }
    },
    {
      "cell_type": "code",
      "source": [
        "from sklearn.metrics import roc_auc_score, roc_curve\n",
        "\n",
        "plt.plot(fpr_dt, tpr_dt, label=\"Decision Tree ROC Curve\")\n",
        "plt.plot(fpr_rf, tpr_rf, label=\"Random Forest ROC Curve\")\n",
        "plt.plot(fpr_gbrt, tpr_gbrt, label=\"Gradient Boosting ROC Curve\")\n",
        "plt.plot([0,1], [0, 1], \"k--\", label =\"Random\")\n",
        "\n",
        "plt.xlabel(\"False Positive Rate\")\n",
        "plt.ylabel(\"True Positive Rate\")\n",
        "\n",
        "plt.legend(loc=4)\n",
        "plt.show() \n",
        " "
      ],
      "metadata": {
        "colab": {
          "base_uri": "https://localhost:8080/",
          "height": 388
        },
        "id": "pfboxdof8trn",
        "outputId": "478bae0b-897d-4743-eee4-7ea09a497d59"
      },
      "execution_count": 30,
      "outputs": [
        {
          "output_type": "display_data",
          "data": {
            "text/plain": [
              "<Figure size 648x432 with 1 Axes>"
            ],
            "image/png": "[encoded data removed]"
          },
          "metadata": {
            "needs_background": "light"
          }
        }
      ]
    },
    {
      "cell_type": "markdown",
      "source": [
        "###인사이트\n",
        "랜덤포레스트 모델이 아래의 면적이 더욱 넓다고 보여진다. 따라서 랜덤포레스트 모델의 민감도와 특이도가 더욱 정확하다고 보여진다. "
      ],
      "metadata": {
        "id": "b3U6Yc_LgE47"
      }
    }
  ]
}